{
 "cells": [
  {
   "cell_type": "markdown",
   "metadata": {},
   "source": [
    "# Курсовой проект"
   ]
  },
  {
   "cell_type": "markdown",
   "metadata": {},
   "source": [
    "#### Подключение необходимых библиотек"
   ]
  },
  {
   "cell_type": "code",
   "execution_count": 1,
   "metadata": {},
   "outputs": [],
   "source": [
    "import pandas as pd\n",
    "from matplotlib import pyplot as plt\n",
    "\n",
    "import numpy as np\n",
    "import seaborn as sns\n",
    "from sklearn.metrics import classification_report, roc_auc_score, mean_squared_error\n",
    "from sklearn.metrics import accuracy_score, f1_score, precision_score, recall_score\n",
    "\n",
    "from sklearn.linear_model import LogisticRegression, LinearRegression\n",
    "from sklearn.neighbors import KNeighborsClassifier\n",
    "import xgboost as xgb, lightgbm as lgbm, catboost as catb\n",
    "from sklearn.preprocessing import StandardScaler\n",
    "from sklearn.model_selection import train_test_split\n",
    "\n",
    "from sklearn.model_selection import KFold, GridSearchCV, RandomizedSearchCV\n",
    "\n",
    "%matplotlib inline"
   ]
  },
  {
   "cell_type": "markdown",
   "metadata": {},
   "source": [
    "#### Используемые функции"
   ]
  },
  {
   "cell_type": "code",
   "execution_count": 2,
   "metadata": {},
   "outputs": [],
   "source": [
    "def get_classification_report(y_train_true, y_train_pred, y_test_true, y_test_pred):\n",
    "    print('TRAIN\\n\\n' + classification_report(y_train_true, y_train_pred))\n",
    "    print('TEST\\n\\n' + classification_report(y_test_true, y_test_pred))\n",
    "    print('CONFUSION MATRIX\\n')\n",
    "    print(pd.crosstab(y_test_true, y_test_pred))"
   ]
  },
  {
   "cell_type": "code",
   "execution_count": 3,
   "metadata": {},
   "outputs": [],
   "source": [
    "def balance_df_by_target(df, target_name):\n",
    "\n",
    "    target_counts = df[target_name].value_counts()\n",
    "    major_class_name = target_counts.argmax()\n",
    "    minor_class_name = target_counts.argmin()\n",
    "\n",
    "    disbalance_coeff = int(target_counts[major_class_name] / target_counts[minor_class_name]) - 1\n",
    "    \n",
    "\n",
    "    for i in range(disbalance_coeff):\n",
    "        sample = df[df[target_name] == minor_class_name].sample(target_counts[minor_class_name])\n",
    "        df = df.append(sample, ignore_index=True)\n",
    "\n",
    "    return df.sample(frac=1) "
   ]
  },
  {
   "cell_type": "code",
   "execution_count": 4,
   "metadata": {},
   "outputs": [],
   "source": [
    "def home_ownership2freq(df):\n",
    "    freq_encode_ownership = df.groupby('Home Ownership').size()/len(df)\n",
    "    res = df['Home Ownership'].map(freq_encode_ownership)\n",
    "    return res"
   ]
  },
  {
   "cell_type": "code",
   "execution_count": 5,
   "metadata": {},
   "outputs": [],
   "source": [
    "def home_ownership2bins(df):\n",
    "    hown_bins = []\n",
    "    for hown in np.unique(df['Home Ownership']):\n",
    "        hown_bins.append([hown])\n",
    "    \n",
    "    for count, pbin in enumerate(hown_bins):\n",
    "        df[f'is_hown_bin_{count}'] = np.where(df['Home Ownership'].isin(pbin), 1, 0).astype('float64')"
   ]
  },
  {
   "cell_type": "code",
   "execution_count": 6,
   "metadata": {},
   "outputs": [],
   "source": [
    "def term2freq(df):\n",
    "    freq_encode_term = df.groupby('Term').size()/len(df)\n",
    "    res = df['Term'].map(freq_encode_term)\n",
    "    return res"
   ]
  },
  {
   "cell_type": "code",
   "execution_count": 7,
   "metadata": {},
   "outputs": [],
   "source": [
    "def term2bins(df):\n",
    "    term_bins = []\n",
    "    for term in np.unique(df['Term']):\n",
    "        term_bins.append([term])\n",
    "    \n",
    "    for count, pbin in enumerate(term_bins):\n",
    "        df[f'is_term_bin_{count}'] = np.where(df['Term'].isin(pbin), 1, 0).astype('float64')"
   ]
  },
  {
   "cell_type": "code",
   "execution_count": 8,
   "metadata": {},
   "outputs": [],
   "source": [
    "def get_mse(check_test):\n",
    "    check_test[\"error\"] = check_test[\"y_pred\"] - check_test[\"y_test\"]\n",
    "    mse1 = (check_test[\"error\"] ** 2).mean()\n",
    "    return mse1"
   ]
  },
  {
   "cell_type": "code",
   "execution_count": 9,
   "metadata": {},
   "outputs": [],
   "source": [
    "def get_f1(check_test):\n",
    "    f1 = f1_score(check_test['y_test'], check_test['y_pred'], average=\"micro\")\n",
    "    return f1"
   ]
  },
  {
   "cell_type": "code",
   "execution_count": 10,
   "metadata": {},
   "outputs": [],
   "source": [
    "def classify_by_threshold(y_in, threshold):\n",
    "    y_out = np.where(y_in > threshold, 1, 0)\n",
    "    return y_out"
   ]
  },
  {
   "cell_type": "markdown",
   "metadata": {},
   "source": [
    "#### Загрузка наборов данных"
   ]
  },
  {
   "cell_type": "code",
   "execution_count": 11,
   "metadata": {},
   "outputs": [],
   "source": [
    "DATA_TRAIN_PATH = \"./course_project_train.csv\"\n",
    "DATA_TEST_PATH = \"./course_project_test.csv\""
   ]
  },
  {
   "cell_type": "code",
   "execution_count": 12,
   "metadata": {},
   "outputs": [],
   "source": [
    "train_ds = pd.read_csv(DATA_TRAIN_PATH)\n",
    "test_ds = pd.read_csv(DATA_TEST_PATH)\n"
   ]
  },
  {
   "cell_type": "code",
   "execution_count": 13,
   "metadata": {},
   "outputs": [
    {
     "data": {
      "text/html": [
       "<div>\n",
       "<style scoped>\n",
       "    .dataframe tbody tr th:only-of-type {\n",
       "        vertical-align: middle;\n",
       "    }\n",
       "\n",
       "    .dataframe tbody tr th {\n",
       "        vertical-align: top;\n",
       "    }\n",
       "\n",
       "    .dataframe thead th {\n",
       "        text-align: right;\n",
       "    }\n",
       "</style>\n",
       "<table border=\"1\" class=\"dataframe\">\n",
       "  <thead>\n",
       "    <tr style=\"text-align: right;\">\n",
       "      <th></th>\n",
       "      <th>Home Ownership</th>\n",
       "      <th>Annual Income</th>\n",
       "      <th>Years in current job</th>\n",
       "      <th>Tax Liens</th>\n",
       "      <th>Number of Open Accounts</th>\n",
       "      <th>Years of Credit History</th>\n",
       "      <th>Maximum Open Credit</th>\n",
       "      <th>Number of Credit Problems</th>\n",
       "      <th>Months since last delinquent</th>\n",
       "      <th>Bankruptcies</th>\n",
       "      <th>Purpose</th>\n",
       "      <th>Term</th>\n",
       "      <th>Current Loan Amount</th>\n",
       "      <th>Current Credit Balance</th>\n",
       "      <th>Monthly Debt</th>\n",
       "      <th>Credit Score</th>\n",
       "      <th>Credit Default</th>\n",
       "    </tr>\n",
       "  </thead>\n",
       "  <tbody>\n",
       "    <tr>\n",
       "      <th>0</th>\n",
       "      <td>Own Home</td>\n",
       "      <td>482087.0</td>\n",
       "      <td>NaN</td>\n",
       "      <td>0.0</td>\n",
       "      <td>11.0</td>\n",
       "      <td>26.3</td>\n",
       "      <td>685960.0</td>\n",
       "      <td>1.0</td>\n",
       "      <td>NaN</td>\n",
       "      <td>1.0</td>\n",
       "      <td>debt consolidation</td>\n",
       "      <td>Short Term</td>\n",
       "      <td>99999999.0</td>\n",
       "      <td>47386.0</td>\n",
       "      <td>7914.0</td>\n",
       "      <td>749.0</td>\n",
       "      <td>0.0</td>\n",
       "    </tr>\n",
       "    <tr>\n",
       "      <th>1</th>\n",
       "      <td>Own Home</td>\n",
       "      <td>1025487.0</td>\n",
       "      <td>10+ years</td>\n",
       "      <td>0.0</td>\n",
       "      <td>15.0</td>\n",
       "      <td>15.3</td>\n",
       "      <td>1181730.0</td>\n",
       "      <td>0.0</td>\n",
       "      <td>NaN</td>\n",
       "      <td>0.0</td>\n",
       "      <td>debt consolidation</td>\n",
       "      <td>Long Term</td>\n",
       "      <td>264968.0</td>\n",
       "      <td>394972.0</td>\n",
       "      <td>18373.0</td>\n",
       "      <td>737.0</td>\n",
       "      <td>1.0</td>\n",
       "    </tr>\n",
       "    <tr>\n",
       "      <th>2</th>\n",
       "      <td>Home Mortgage</td>\n",
       "      <td>751412.0</td>\n",
       "      <td>8 years</td>\n",
       "      <td>0.0</td>\n",
       "      <td>11.0</td>\n",
       "      <td>35.0</td>\n",
       "      <td>1182434.0</td>\n",
       "      <td>0.0</td>\n",
       "      <td>NaN</td>\n",
       "      <td>0.0</td>\n",
       "      <td>debt consolidation</td>\n",
       "      <td>Short Term</td>\n",
       "      <td>99999999.0</td>\n",
       "      <td>308389.0</td>\n",
       "      <td>13651.0</td>\n",
       "      <td>742.0</td>\n",
       "      <td>0.0</td>\n",
       "    </tr>\n",
       "    <tr>\n",
       "      <th>3</th>\n",
       "      <td>Own Home</td>\n",
       "      <td>805068.0</td>\n",
       "      <td>6 years</td>\n",
       "      <td>0.0</td>\n",
       "      <td>8.0</td>\n",
       "      <td>22.5</td>\n",
       "      <td>147400.0</td>\n",
       "      <td>1.0</td>\n",
       "      <td>NaN</td>\n",
       "      <td>1.0</td>\n",
       "      <td>debt consolidation</td>\n",
       "      <td>Short Term</td>\n",
       "      <td>121396.0</td>\n",
       "      <td>95855.0</td>\n",
       "      <td>11338.0</td>\n",
       "      <td>694.0</td>\n",
       "      <td>0.0</td>\n",
       "    </tr>\n",
       "    <tr>\n",
       "      <th>4</th>\n",
       "      <td>Rent</td>\n",
       "      <td>776264.0</td>\n",
       "      <td>8 years</td>\n",
       "      <td>0.0</td>\n",
       "      <td>13.0</td>\n",
       "      <td>13.6</td>\n",
       "      <td>385836.0</td>\n",
       "      <td>1.0</td>\n",
       "      <td>NaN</td>\n",
       "      <td>0.0</td>\n",
       "      <td>debt consolidation</td>\n",
       "      <td>Short Term</td>\n",
       "      <td>125840.0</td>\n",
       "      <td>93309.0</td>\n",
       "      <td>7180.0</td>\n",
       "      <td>719.0</td>\n",
       "      <td>0.0</td>\n",
       "    </tr>\n",
       "  </tbody>\n",
       "</table>\n",
       "</div>"
      ],
      "text/plain": [
       "  Home Ownership  Annual Income Years in current job  Tax Liens  \\\n",
       "0       Own Home       482087.0                  NaN        0.0   \n",
       "1       Own Home      1025487.0            10+ years        0.0   \n",
       "2  Home Mortgage       751412.0              8 years        0.0   \n",
       "3       Own Home       805068.0              6 years        0.0   \n",
       "4           Rent       776264.0              8 years        0.0   \n",
       "\n",
       "   Number of Open Accounts  Years of Credit History  Maximum Open Credit  \\\n",
       "0                     11.0                     26.3             685960.0   \n",
       "1                     15.0                     15.3            1181730.0   \n",
       "2                     11.0                     35.0            1182434.0   \n",
       "3                      8.0                     22.5             147400.0   \n",
       "4                     13.0                     13.6             385836.0   \n",
       "\n",
       "   Number of Credit Problems  Months since last delinquent  Bankruptcies  \\\n",
       "0                        1.0                           NaN           1.0   \n",
       "1                        0.0                           NaN           0.0   \n",
       "2                        0.0                           NaN           0.0   \n",
       "3                        1.0                           NaN           1.0   \n",
       "4                        1.0                           NaN           0.0   \n",
       "\n",
       "              Purpose        Term  Current Loan Amount  \\\n",
       "0  debt consolidation  Short Term           99999999.0   \n",
       "1  debt consolidation   Long Term             264968.0   \n",
       "2  debt consolidation  Short Term           99999999.0   \n",
       "3  debt consolidation  Short Term             121396.0   \n",
       "4  debt consolidation  Short Term             125840.0   \n",
       "\n",
       "   Current Credit Balance  Monthly Debt  Credit Score  Credit Default  \n",
       "0                 47386.0        7914.0         749.0             0.0  \n",
       "1                394972.0       18373.0         737.0             1.0  \n",
       "2                308389.0       13651.0         742.0             0.0  \n",
       "3                 95855.0       11338.0         694.0             0.0  \n",
       "4                 93309.0        7180.0         719.0             0.0  "
      ]
     },
     "execution_count": 13,
     "metadata": {},
     "output_type": "execute_result"
    }
   ],
   "source": [
    "data = pd.concat([train_ds, test_ds], axis=0)\n",
    "data.head()"
   ]
  },
  {
   "cell_type": "code",
   "execution_count": 14,
   "metadata": {},
   "outputs": [
    {
     "name": "stdout",
     "output_type": "stream",
     "text": [
      "<class 'pandas.core.frame.DataFrame'>\n",
      "Int64Index: 10000 entries, 0 to 2499\n",
      "Data columns (total 17 columns):\n",
      " #   Column                        Non-Null Count  Dtype  \n",
      "---  ------                        --------------  -----  \n",
      " 0   Home Ownership                10000 non-null  object \n",
      " 1   Annual Income                 7930 non-null   float64\n",
      " 2   Years in current job          9543 non-null   object \n",
      " 3   Tax Liens                     10000 non-null  float64\n",
      " 4   Number of Open Accounts       10000 non-null  float64\n",
      " 5   Years of Credit History       10000 non-null  float64\n",
      " 6   Maximum Open Credit           10000 non-null  float64\n",
      " 7   Number of Credit Problems     10000 non-null  float64\n",
      " 8   Months since last delinquent  4561 non-null   float64\n",
      " 9   Bankruptcies                  9983 non-null   float64\n",
      " 10  Purpose                       10000 non-null  object \n",
      " 11  Term                          10000 non-null  object \n",
      " 12  Current Loan Amount           10000 non-null  float64\n",
      " 13  Current Credit Balance        10000 non-null  float64\n",
      " 14  Monthly Debt                  10000 non-null  float64\n",
      " 15  Credit Score                  7930 non-null   float64\n",
      " 16  Credit Default                7500 non-null   float64\n",
      "dtypes: float64(13), object(4)\n",
      "memory usage: 1.4+ MB\n"
     ]
    }
   ],
   "source": [
    "data.info()"
   ]
  },
  {
   "cell_type": "markdown",
   "metadata": {},
   "source": [
    "#### Первоначальные замечания по данным"
   ]
  },
  {
   "cell_type": "markdown",
   "metadata": {},
   "source": [
    "1. В данных есть пропуски. В столбцах: \n",
    "    - Annual Income, \n",
    "    - Years in current job, \n",
    "    - Months since last delinquent, \n",
    "    - Bankruptcies, \n",
    "    - Credit Score\n",
    "2. 4 столбца типа object:\n",
    "    - Home Ownership,\n",
    "    - Years in current job,\n",
    "    - Purpose,\n",
    "    - Term"
   ]
  },
  {
   "cell_type": "markdown",
   "metadata": {},
   "source": [
    "#### Получение списка столбцов и деление на основные свойства и целевую переменную"
   ]
  },
  {
   "cell_type": "code",
   "execution_count": 15,
   "metadata": {},
   "outputs": [
    {
     "data": {
      "text/plain": [
       "['Home Ownership',\n",
       " 'Annual Income',\n",
       " 'Years in current job',\n",
       " 'Tax Liens',\n",
       " 'Number of Open Accounts',\n",
       " 'Years of Credit History',\n",
       " 'Maximum Open Credit',\n",
       " 'Number of Credit Problems',\n",
       " 'Months since last delinquent',\n",
       " 'Bankruptcies',\n",
       " 'Purpose',\n",
       " 'Term',\n",
       " 'Current Loan Amount',\n",
       " 'Current Credit Balance',\n",
       " 'Monthly Debt',\n",
       " 'Credit Score',\n",
       " 'Credit Default']"
      ]
     },
     "execution_count": 15,
     "metadata": {},
     "output_type": "execute_result"
    }
   ],
   "source": [
    "list(data.columns)"
   ]
  },
  {
   "cell_type": "code",
   "execution_count": 16,
   "metadata": {},
   "outputs": [],
   "source": [
    "BASE_FEATURE_NAMES  = ['Home Ownership',\n",
    " 'Annual Income',\n",
    " 'Years in current job',\n",
    " 'Tax Liens',\n",
    " 'Number of Open Accounts',\n",
    " 'Years of Credit History',\n",
    " 'Maximum Open Credit',\n",
    " 'Number of Credit Problems',\n",
    " 'Months since last delinquent',\n",
    " 'Bankruptcies',\n",
    " 'Purpose',\n",
    " 'Term',\n",
    " 'Current Loan Amount',\n",
    " 'Current Credit Balance',\n",
    " 'Monthly Debt',\n",
    " 'Credit Score']\n",
    "TARGET_NAME = ['Credit Default']"
   ]
  },
  {
   "cell_type": "markdown",
   "metadata": {},
   "source": [
    "# Анализ"
   ]
  },
  {
   "cell_type": "markdown",
   "metadata": {},
   "source": [
    "### Преобразования столбцов типа object"
   ]
  },
  {
   "cell_type": "markdown",
   "metadata": {},
   "source": [
    "#### Преобразование столбца \"Years in current job\""
   ]
  },
  {
   "cell_type": "code",
   "execution_count": 17,
   "metadata": {
    "scrolled": true
   },
   "outputs": [
    {
     "data": {
      "text/plain": [
       "10+ years    3142\n",
       "2 years       917\n",
       "3 years       848\n",
       "< 1 year      770\n",
       "5 years       685\n",
       "1 year        657\n",
       "4 years       621\n",
       "6 years       563\n",
       "7 years       536\n",
       "8 years       446\n",
       "9 years       358\n",
       "Name: Years in current job, dtype: int64"
      ]
     },
     "execution_count": 17,
     "metadata": {},
     "output_type": "execute_result"
    }
   ],
   "source": [
    "curr_job_years = data['Years in current job']\n",
    "curr_job_years.value_counts()"
   ]
  },
  {
   "cell_type": "code",
   "execution_count": 18,
   "metadata": {
    "scrolled": true
   },
   "outputs": [
    {
     "data": {
      "text/plain": [
       "count          9543\n",
       "unique           11\n",
       "top       10+ years\n",
       "freq           3142\n",
       "Name: Years in current job, dtype: object"
      ]
     },
     "execution_count": 18,
     "metadata": {},
     "output_type": "execute_result"
    }
   ],
   "source": [
    "curr_job_years.describe()"
   ]
  },
  {
   "cell_type": "code",
   "execution_count": 19,
   "metadata": {},
   "outputs": [
    {
     "data": {
      "text/plain": [
       "20"
      ]
     },
     "execution_count": 19,
     "metadata": {},
     "output_type": "execute_result"
    }
   ],
   "source": [
    "cj_years_substitution = {'10+ years':21, '9 years':18, '8 years':16, '7 years':14, '6 years':12, '5 years':10, \n",
    "                        '4 years':8, '3 years':6, '2 years':4, '1 year':2, '< 1 year':1, '0':20}\n",
    "cj_years_substitution['0']"
   ]
  },
  {
   "cell_type": "code",
   "execution_count": 20,
   "metadata": {},
   "outputs": [],
   "source": [
    "int_years = map(lambda x: cj_years_substitution[x], curr_job_years.fillna('0').astype(str))\n"
   ]
  },
  {
   "cell_type": "code",
   "execution_count": 21,
   "metadata": {},
   "outputs": [
    {
     "data": {
      "text/plain": [
       "0       20\n",
       "1       21\n",
       "2       16\n",
       "3       12\n",
       "4       16\n",
       "        ..\n",
       "2495     4\n",
       "2496    12\n",
       "2497    21\n",
       "2498    20\n",
       "2499    21\n",
       "Name: Years in current job, Length: 10000, dtype: int64"
      ]
     },
     "execution_count": 21,
     "metadata": {},
     "output_type": "execute_result"
    }
   ],
   "source": [
    "data['Years in current job'] = pd.DataFrame(list(int_years))\n",
    "data['Years in current job']"
   ]
  },
  {
   "cell_type": "code",
   "execution_count": 22,
   "metadata": {},
   "outputs": [
    {
     "data": {
      "text/plain": [
       "<AxesSubplot:>"
      ]
     },
     "execution_count": 22,
     "metadata": {},
     "output_type": "execute_result"
    },
    {
     "data": {
      "image/png": "[encoded data removed]",
      "text/plain": [
       "<Figure size 432x288 with 1 Axes>"
      ]
     },
     "metadata": {
      "needs_background": "light"
     },
     "output_type": "display_data"
    }
   ],
   "source": [
    "data['Years in current job'].hist(bins=21)"
   ]
  },
  {
   "cell_type": "code",
   "execution_count": 23,
   "metadata": {
    "scrolled": true
   },
   "outputs": [
    {
     "data": {
      "text/plain": [
       "count    10000.000000\n",
       "mean        12.506800\n",
       "std          7.498865\n",
       "min          1.000000\n",
       "25%          6.000000\n",
       "50%         12.000000\n",
       "75%         21.000000\n",
       "max         21.000000\n",
       "Name: Years in current job, dtype: float64"
      ]
     },
     "execution_count": 23,
     "metadata": {},
     "output_type": "execute_result"
    }
   ],
   "source": [
    "data['Years in current job'].describe()"
   ]
  },
  {
   "cell_type": "code",
   "execution_count": 24,
   "metadata": {},
   "outputs": [],
   "source": [
    "data['Years in current job'] = data['Years in current job'].astype(float)"
   ]
  },
  {
   "cell_type": "markdown",
   "metadata": {},
   "source": [
    "#### Преобразование столбца \"Home Ownership\""
   ]
  },
  {
   "cell_type": "code",
   "execution_count": 25,
   "metadata": {},
   "outputs": [
    {
     "data": {
      "text/plain": [
       "Home Mortgage    4862\n",
       "Rent             4224\n",
       "Own Home          895\n",
       "Have Mortgage      19\n",
       "Name: Home Ownership, dtype: int64"
      ]
     },
     "execution_count": 25,
     "metadata": {},
     "output_type": "execute_result"
    }
   ],
   "source": [
    "home_ownership = data['Home Ownership']\n",
    "home_ownership.value_counts()"
   ]
  },
  {
   "cell_type": "code",
   "execution_count": 26,
   "metadata": {},
   "outputs": [],
   "source": [
    "#freq_encode_ownership = data.groupby('Home Ownership').size()/len(data)\n",
    "#data.loc[:, 'freq_encode_ownership'] = data['Home Ownership'].map(freq_encode_ownership)\n",
    "#data"
   ]
  },
  {
   "cell_type": "code",
   "execution_count": 27,
   "metadata": {},
   "outputs": [],
   "source": [
    "data.loc[:, 'freq_encode_ownership'] = home_ownership2freq(data)\n"
   ]
  },
  {
   "cell_type": "code",
   "execution_count": 28,
   "metadata": {},
   "outputs": [],
   "source": [
    "home_ownership2bins(data)\n"
   ]
  },
  {
   "cell_type": "markdown",
   "metadata": {},
   "source": [
    "#### Преобразование столбца \"Purpose\"\n"
   ]
  },
  {
   "cell_type": "code",
   "execution_count": 29,
   "metadata": {},
   "outputs": [
    {
     "data": {
      "text/plain": [
       "debt consolidation      7917\n",
       "other                    905\n",
       "home improvements        552\n",
       "business loan            159\n",
       "buy a car                130\n",
       "medical bills             98\n",
       "buy house                 53\n",
       "take a trip               51\n",
       "major purchase            49\n",
       "small business            31\n",
       "wedding                   17\n",
       "educational expenses      13\n",
       "moving                    12\n",
       "vacation                  11\n",
       "renewable energy           2\n",
       "Name: Purpose, dtype: int64"
      ]
     },
     "execution_count": 29,
     "metadata": {},
     "output_type": "execute_result"
    }
   ],
   "source": [
    "purpose = data['Purpose']\n",
    "purpose.value_counts()"
   ]
  },
  {
   "cell_type": "code",
   "execution_count": 30,
   "metadata": {},
   "outputs": [],
   "source": [
    "purpose_bins = []\n",
    "purpose_bins.append(['business loan'])\n",
    "purpose_bins.append(['debt consolidation'])\n",
    "purpose_bins.append(list(set(purpose.values) - set(purpose_bins[0]) -set(purpose_bins[1])))"
   ]
  },
  {
   "cell_type": "code",
   "execution_count": 31,
   "metadata": {},
   "outputs": [
    {
     "data": {
      "text/plain": [
       "[['business loan'],\n",
       " ['debt consolidation'],\n",
       " ['educational expenses',\n",
       "  'major purchase',\n",
       "  'renewable energy',\n",
       "  'take a trip',\n",
       "  'vacation',\n",
       "  'buy house',\n",
       "  'home improvements',\n",
       "  'medical bills',\n",
       "  'wedding',\n",
       "  'small business',\n",
       "  'moving',\n",
       "  'buy a car',\n",
       "  'other']]"
      ]
     },
     "execution_count": 31,
     "metadata": {},
     "output_type": "execute_result"
    }
   ],
   "source": [
    "purpose_bins"
   ]
  },
  {
   "cell_type": "code",
   "execution_count": 32,
   "metadata": {},
   "outputs": [],
   "source": [
    "for purpose in np.unique(data['Purpose']):\n",
    "    for count, pbin in enumerate(purpose_bins):\n",
    "        data[f'is_purpose_bin_{count}'] = np.where(data['Purpose'].isin(pbin), 1, 0).astype('float64')"
   ]
  },
  {
   "cell_type": "code",
   "execution_count": 33,
   "metadata": {},
   "outputs": [
    {
     "data": {
      "text/html": [
       "<div>\n",
       "<style scoped>\n",
       "    .dataframe tbody tr th:only-of-type {\n",
       "        vertical-align: middle;\n",
       "    }\n",
       "\n",
       "    .dataframe tbody tr th {\n",
       "        vertical-align: top;\n",
       "    }\n",
       "\n",
       "    .dataframe thead th {\n",
       "        text-align: right;\n",
       "    }\n",
       "</style>\n",
       "<table border=\"1\" class=\"dataframe\">\n",
       "  <thead>\n",
       "    <tr style=\"text-align: right;\">\n",
       "      <th></th>\n",
       "      <th>Home Ownership</th>\n",
       "      <th>Annual Income</th>\n",
       "      <th>Years in current job</th>\n",
       "      <th>Tax Liens</th>\n",
       "      <th>Number of Open Accounts</th>\n",
       "      <th>Years of Credit History</th>\n",
       "      <th>Maximum Open Credit</th>\n",
       "      <th>Number of Credit Problems</th>\n",
       "      <th>Months since last delinquent</th>\n",
       "      <th>Bankruptcies</th>\n",
       "      <th>...</th>\n",
       "      <th>Credit Score</th>\n",
       "      <th>Credit Default</th>\n",
       "      <th>freq_encode_ownership</th>\n",
       "      <th>is_hown_bin_0</th>\n",
       "      <th>is_hown_bin_1</th>\n",
       "      <th>is_hown_bin_2</th>\n",
       "      <th>is_hown_bin_3</th>\n",
       "      <th>is_purpose_bin_0</th>\n",
       "      <th>is_purpose_bin_1</th>\n",
       "      <th>is_purpose_bin_2</th>\n",
       "    </tr>\n",
       "  </thead>\n",
       "  <tbody>\n",
       "    <tr>\n",
       "      <th>0</th>\n",
       "      <td>Own Home</td>\n",
       "      <td>482087.0</td>\n",
       "      <td>20.0</td>\n",
       "      <td>0.0</td>\n",
       "      <td>11.0</td>\n",
       "      <td>26.3</td>\n",
       "      <td>685960.0</td>\n",
       "      <td>1.0</td>\n",
       "      <td>NaN</td>\n",
       "      <td>1.0</td>\n",
       "      <td>...</td>\n",
       "      <td>749.0</td>\n",
       "      <td>0.0</td>\n",
       "      <td>0.0895</td>\n",
       "      <td>0.0</td>\n",
       "      <td>0.0</td>\n",
       "      <td>1.0</td>\n",
       "      <td>0.0</td>\n",
       "      <td>0.0</td>\n",
       "      <td>1.0</td>\n",
       "      <td>0.0</td>\n",
       "    </tr>\n",
       "    <tr>\n",
       "      <th>1</th>\n",
       "      <td>Own Home</td>\n",
       "      <td>1025487.0</td>\n",
       "      <td>21.0</td>\n",
       "      <td>0.0</td>\n",
       "      <td>15.0</td>\n",
       "      <td>15.3</td>\n",
       "      <td>1181730.0</td>\n",
       "      <td>0.0</td>\n",
       "      <td>NaN</td>\n",
       "      <td>0.0</td>\n",
       "      <td>...</td>\n",
       "      <td>737.0</td>\n",
       "      <td>1.0</td>\n",
       "      <td>0.0895</td>\n",
       "      <td>0.0</td>\n",
       "      <td>0.0</td>\n",
       "      <td>1.0</td>\n",
       "      <td>0.0</td>\n",
       "      <td>0.0</td>\n",
       "      <td>1.0</td>\n",
       "      <td>0.0</td>\n",
       "    </tr>\n",
       "    <tr>\n",
       "      <th>2</th>\n",
       "      <td>Home Mortgage</td>\n",
       "      <td>751412.0</td>\n",
       "      <td>16.0</td>\n",
       "      <td>0.0</td>\n",
       "      <td>11.0</td>\n",
       "      <td>35.0</td>\n",
       "      <td>1182434.0</td>\n",
       "      <td>0.0</td>\n",
       "      <td>NaN</td>\n",
       "      <td>0.0</td>\n",
       "      <td>...</td>\n",
       "      <td>742.0</td>\n",
       "      <td>0.0</td>\n",
       "      <td>0.4862</td>\n",
       "      <td>0.0</td>\n",
       "      <td>1.0</td>\n",
       "      <td>0.0</td>\n",
       "      <td>0.0</td>\n",
       "      <td>0.0</td>\n",
       "      <td>1.0</td>\n",
       "      <td>0.0</td>\n",
       "    </tr>\n",
       "    <tr>\n",
       "      <th>3</th>\n",
       "      <td>Own Home</td>\n",
       "      <td>805068.0</td>\n",
       "      <td>12.0</td>\n",
       "      <td>0.0</td>\n",
       "      <td>8.0</td>\n",
       "      <td>22.5</td>\n",
       "      <td>147400.0</td>\n",
       "      <td>1.0</td>\n",
       "      <td>NaN</td>\n",
       "      <td>1.0</td>\n",
       "      <td>...</td>\n",
       "      <td>694.0</td>\n",
       "      <td>0.0</td>\n",
       "      <td>0.0895</td>\n",
       "      <td>0.0</td>\n",
       "      <td>0.0</td>\n",
       "      <td>1.0</td>\n",
       "      <td>0.0</td>\n",
       "      <td>0.0</td>\n",
       "      <td>1.0</td>\n",
       "      <td>0.0</td>\n",
       "    </tr>\n",
       "    <tr>\n",
       "      <th>4</th>\n",
       "      <td>Rent</td>\n",
       "      <td>776264.0</td>\n",
       "      <td>16.0</td>\n",
       "      <td>0.0</td>\n",
       "      <td>13.0</td>\n",
       "      <td>13.6</td>\n",
       "      <td>385836.0</td>\n",
       "      <td>1.0</td>\n",
       "      <td>NaN</td>\n",
       "      <td>0.0</td>\n",
       "      <td>...</td>\n",
       "      <td>719.0</td>\n",
       "      <td>0.0</td>\n",
       "      <td>0.4224</td>\n",
       "      <td>0.0</td>\n",
       "      <td>0.0</td>\n",
       "      <td>0.0</td>\n",
       "      <td>1.0</td>\n",
       "      <td>0.0</td>\n",
       "      <td>1.0</td>\n",
       "      <td>0.0</td>\n",
       "    </tr>\n",
       "  </tbody>\n",
       "</table>\n",
       "<p>5 rows × 25 columns</p>\n",
       "</div>"
      ],
      "text/plain": [
       "  Home Ownership  Annual Income  Years in current job  Tax Liens  \\\n",
       "0       Own Home       482087.0                  20.0        0.0   \n",
       "1       Own Home      1025487.0                  21.0        0.0   \n",
       "2  Home Mortgage       751412.0                  16.0        0.0   \n",
       "3       Own Home       805068.0                  12.0        0.0   \n",
       "4           Rent       776264.0                  16.0        0.0   \n",
       "\n",
       "   Number of Open Accounts  Years of Credit History  Maximum Open Credit  \\\n",
       "0                     11.0                     26.3             685960.0   \n",
       "1                     15.0                     15.3            1181730.0   \n",
       "2                     11.0                     35.0            1182434.0   \n",
       "3                      8.0                     22.5             147400.0   \n",
       "4                     13.0                     13.6             385836.0   \n",
       "\n",
       "   Number of Credit Problems  Months since last delinquent  Bankruptcies  ...  \\\n",
       "0                        1.0                           NaN           1.0  ...   \n",
       "1                        0.0                           NaN           0.0  ...   \n",
       "2                        0.0                           NaN           0.0  ...   \n",
       "3                        1.0                           NaN           1.0  ...   \n",
       "4                        1.0                           NaN           0.0  ...   \n",
       "\n",
       "  Credit Score Credit Default  freq_encode_ownership  is_hown_bin_0  \\\n",
       "0        749.0            0.0                 0.0895            0.0   \n",
       "1        737.0            1.0                 0.0895            0.0   \n",
       "2        742.0            0.0                 0.4862            0.0   \n",
       "3        694.0            0.0                 0.0895            0.0   \n",
       "4        719.0            0.0                 0.4224            0.0   \n",
       "\n",
       "   is_hown_bin_1  is_hown_bin_2  is_hown_bin_3  is_purpose_bin_0  \\\n",
       "0            0.0            1.0            0.0               0.0   \n",
       "1            0.0            1.0            0.0               0.0   \n",
       "2            1.0            0.0            0.0               0.0   \n",
       "3            0.0            1.0            0.0               0.0   \n",
       "4            0.0            0.0            1.0               0.0   \n",
       "\n",
       "   is_purpose_bin_1  is_purpose_bin_2  \n",
       "0               1.0               0.0  \n",
       "1               1.0               0.0  \n",
       "2               1.0               0.0  \n",
       "3               1.0               0.0  \n",
       "4               1.0               0.0  \n",
       "\n",
       "[5 rows x 25 columns]"
      ]
     },
     "execution_count": 33,
     "metadata": {},
     "output_type": "execute_result"
    }
   ],
   "source": [
    "data.head()"
   ]
  },
  {
   "cell_type": "code",
   "execution_count": 34,
   "metadata": {},
   "outputs": [],
   "source": [
    "IS_DATA_COLUMNS = ['is_purpose_bin_0', 'is_purpose_bin_1', 'is_purpose_bin_2']"
   ]
  },
  {
   "cell_type": "markdown",
   "metadata": {},
   "source": [
    "Определяем влияние разбитых данных для цели кредита на итоговый результат. По сути is_purpose_bin_2 могла бы и не учитываться."
   ]
  },
  {
   "cell_type": "code",
   "execution_count": 35,
   "metadata": {},
   "outputs": [
    {
     "data": {
      "text/plain": [
       "<AxesSubplot:>"
      ]
     },
     "execution_count": 35,
     "metadata": {},
     "output_type": "execute_result"
    },
    {
     "data": {
      "image/png": "[encoded data removed]",
      "text/plain": [
       "<Figure size 720x576 with 1 Axes>"
      ]
     },
     "metadata": {
      "needs_background": "light"
     },
     "output_type": "display_data"
    }
   ],
   "source": [
    "corr_with_target = data[BASE_FEATURE_NAMES+IS_DATA_COLUMNS+TARGET_NAME].corr().iloc[:-1,-1].sort_values(ascending = False)\n",
    "plt.figure(figsize=(10,8))\n",
    "sns.barplot(x=corr_with_target.values, y=corr_with_target.index)"
   ]
  },
  {
   "cell_type": "code",
   "execution_count": 36,
   "metadata": {},
   "outputs": [],
   "source": [
    "train_data = data[(data['Credit Default'].notnull())]"
   ]
  },
  {
   "cell_type": "code",
   "execution_count": 37,
   "metadata": {},
   "outputs": [],
   "source": [
    "scores = {}\n",
    "for feature in IS_DATA_COLUMNS:\n",
    "    scores[feature] = 2*roc_auc_score(y_true=train_data[TARGET_NAME], y_score=train_data[feature].fillna(-9999)) - 1\n",
    "    \n",
    "scores = pd.Series(scores)    \n"
   ]
  },
  {
   "cell_type": "markdown",
   "metadata": {},
   "source": [
    "Еще один график влияния цели кредита на результат"
   ]
  },
  {
   "cell_type": "code",
   "execution_count": 38,
   "metadata": {},
   "outputs": [
    {
     "data": {
      "text/plain": [
       "<AxesSubplot:>"
      ]
     },
     "execution_count": 38,
     "metadata": {},
     "output_type": "execute_result"
    },
    {
     "data": {
      "image/png": "[encoded data removed]",
      "text/plain": [
       "<Figure size 720x576 with 1 Axes>"
      ]
     },
     "metadata": {
      "needs_background": "light"
     },
     "output_type": "display_data"
    }
   ],
   "source": [
    "plt.figure(figsize=(10,8))\n",
    "sns.barplot(x=scores.values, y=scores.index)"
   ]
  },
  {
   "cell_type": "markdown",
   "metadata": {},
   "source": [
    "#### Преобразование столбца \"Terms\""
   ]
  },
  {
   "cell_type": "code",
   "execution_count": 39,
   "metadata": {},
   "outputs": [
    {
     "data": {
      "text/plain": [
       "Short Term    7417\n",
       "Long Term     2583\n",
       "Name: Term, dtype: int64"
      ]
     },
     "execution_count": 39,
     "metadata": {},
     "output_type": "execute_result"
    }
   ],
   "source": [
    "data['Term'].value_counts()"
   ]
  },
  {
   "cell_type": "markdown",
   "metadata": {},
   "source": [
    "Разбиваем по классам"
   ]
  },
  {
   "cell_type": "code",
   "execution_count": 40,
   "metadata": {},
   "outputs": [
    {
     "data": {
      "text/html": [
       "<div>\n",
       "<style scoped>\n",
       "    .dataframe tbody tr th:only-of-type {\n",
       "        vertical-align: middle;\n",
       "    }\n",
       "\n",
       "    .dataframe tbody tr th {\n",
       "        vertical-align: top;\n",
       "    }\n",
       "\n",
       "    .dataframe thead th {\n",
       "        text-align: right;\n",
       "    }\n",
       "</style>\n",
       "<table border=\"1\" class=\"dataframe\">\n",
       "  <thead>\n",
       "    <tr style=\"text-align: right;\">\n",
       "      <th></th>\n",
       "      <th>is_term_bin_0</th>\n",
       "      <th>is_term_bin_1</th>\n",
       "    </tr>\n",
       "  </thead>\n",
       "  <tbody>\n",
       "    <tr>\n",
       "      <th>0</th>\n",
       "      <td>0.0</td>\n",
       "      <td>1.0</td>\n",
       "    </tr>\n",
       "    <tr>\n",
       "      <th>1</th>\n",
       "      <td>1.0</td>\n",
       "      <td>0.0</td>\n",
       "    </tr>\n",
       "    <tr>\n",
       "      <th>2</th>\n",
       "      <td>0.0</td>\n",
       "      <td>1.0</td>\n",
       "    </tr>\n",
       "    <tr>\n",
       "      <th>3</th>\n",
       "      <td>0.0</td>\n",
       "      <td>1.0</td>\n",
       "    </tr>\n",
       "    <tr>\n",
       "      <th>4</th>\n",
       "      <td>0.0</td>\n",
       "      <td>1.0</td>\n",
       "    </tr>\n",
       "  </tbody>\n",
       "</table>\n",
       "</div>"
      ],
      "text/plain": [
       "   is_term_bin_0  is_term_bin_1\n",
       "0            0.0            1.0\n",
       "1            1.0            0.0\n",
       "2            0.0            1.0\n",
       "3            0.0            1.0\n",
       "4            0.0            1.0"
      ]
     },
     "execution_count": 40,
     "metadata": {},
     "output_type": "execute_result"
    }
   ],
   "source": [
    "term2bins(data)\n",
    "data[['is_term_bin_0', 'is_term_bin_1']].head()"
   ]
  },
  {
   "cell_type": "markdown",
   "metadata": {},
   "source": [
    "### Обработка пропусков в данных"
   ]
  },
  {
   "cell_type": "markdown",
   "metadata": {},
   "source": [
    "Поле 'Annual Income' и поле 'Credit Score' имеют одно и то же количество незаполненных записей. Нет одни ли и те же это записи?"
   ]
  },
  {
   "cell_type": "code",
   "execution_count": 41,
   "metadata": {},
   "outputs": [
    {
     "data": {
      "text/html": [
       "<div>\n",
       "<style scoped>\n",
       "    .dataframe tbody tr th:only-of-type {\n",
       "        vertical-align: middle;\n",
       "    }\n",
       "\n",
       "    .dataframe tbody tr th {\n",
       "        vertical-align: top;\n",
       "    }\n",
       "\n",
       "    .dataframe thead th {\n",
       "        text-align: right;\n",
       "    }\n",
       "</style>\n",
       "<table border=\"1\" class=\"dataframe\">\n",
       "  <thead>\n",
       "    <tr style=\"text-align: right;\">\n",
       "      <th></th>\n",
       "      <th>Annual Income</th>\n",
       "      <th>Credit Score</th>\n",
       "    </tr>\n",
       "  </thead>\n",
       "  <tbody>\n",
       "    <tr>\n",
       "      <th>5</th>\n",
       "      <td>NaN</td>\n",
       "      <td>NaN</td>\n",
       "    </tr>\n",
       "    <tr>\n",
       "      <th>8</th>\n",
       "      <td>NaN</td>\n",
       "      <td>NaN</td>\n",
       "    </tr>\n",
       "    <tr>\n",
       "      <th>9</th>\n",
       "      <td>NaN</td>\n",
       "      <td>NaN</td>\n",
       "    </tr>\n",
       "    <tr>\n",
       "      <th>10</th>\n",
       "      <td>NaN</td>\n",
       "      <td>NaN</td>\n",
       "    </tr>\n",
       "    <tr>\n",
       "      <th>16</th>\n",
       "      <td>NaN</td>\n",
       "      <td>NaN</td>\n",
       "    </tr>\n",
       "    <tr>\n",
       "      <th>...</th>\n",
       "      <td>...</td>\n",
       "      <td>...</td>\n",
       "    </tr>\n",
       "    <tr>\n",
       "      <th>7482</th>\n",
       "      <td>NaN</td>\n",
       "      <td>NaN</td>\n",
       "    </tr>\n",
       "    <tr>\n",
       "      <th>7492</th>\n",
       "      <td>NaN</td>\n",
       "      <td>NaN</td>\n",
       "    </tr>\n",
       "    <tr>\n",
       "      <th>7494</th>\n",
       "      <td>NaN</td>\n",
       "      <td>NaN</td>\n",
       "    </tr>\n",
       "    <tr>\n",
       "      <th>7498</th>\n",
       "      <td>NaN</td>\n",
       "      <td>NaN</td>\n",
       "    </tr>\n",
       "    <tr>\n",
       "      <th>7499</th>\n",
       "      <td>NaN</td>\n",
       "      <td>NaN</td>\n",
       "    </tr>\n",
       "  </tbody>\n",
       "</table>\n",
       "<p>1557 rows × 2 columns</p>\n",
       "</div>"
      ],
      "text/plain": [
       "      Annual Income  Credit Score\n",
       "5               NaN           NaN\n",
       "8               NaN           NaN\n",
       "9               NaN           NaN\n",
       "10              NaN           NaN\n",
       "16              NaN           NaN\n",
       "...             ...           ...\n",
       "7482            NaN           NaN\n",
       "7492            NaN           NaN\n",
       "7494            NaN           NaN\n",
       "7498            NaN           NaN\n",
       "7499            NaN           NaN\n",
       "\n",
       "[1557 rows x 2 columns]"
      ]
     },
     "execution_count": 41,
     "metadata": {},
     "output_type": "execute_result"
    }
   ],
   "source": [
    "income_score = train_ds.loc[(train_ds['Annual Income'].isnull()) & (train_ds['Credit Score'].isnull()), ['Annual Income', 'Credit Score']]\n",
    "income_score"
   ]
  },
  {
   "cell_type": "markdown",
   "metadata": {},
   "source": [
    "Количество записей, для которых оба столбца незаполнены составляет 1557. Так как 1557+5943 = 7500 можно сделать вывод, что записи, в которых не заполнены оба столбца - одни и те же.\n"
   ]
  },
  {
   "cell_type": "code",
   "execution_count": 42,
   "metadata": {},
   "outputs": [
    {
     "data": {
      "text/html": [
       "<div>\n",
       "<style scoped>\n",
       "    .dataframe tbody tr th:only-of-type {\n",
       "        vertical-align: middle;\n",
       "    }\n",
       "\n",
       "    .dataframe tbody tr th {\n",
       "        vertical-align: top;\n",
       "    }\n",
       "\n",
       "    .dataframe thead th {\n",
       "        text-align: right;\n",
       "    }\n",
       "</style>\n",
       "<table border=\"1\" class=\"dataframe\">\n",
       "  <thead>\n",
       "    <tr style=\"text-align: right;\">\n",
       "      <th></th>\n",
       "      <th>Annual Income</th>\n",
       "      <th>Credit Score</th>\n",
       "    </tr>\n",
       "  </thead>\n",
       "  <tbody>\n",
       "    <tr>\n",
       "      <th>5</th>\n",
       "      <td>NaN</td>\n",
       "      <td>NaN</td>\n",
       "    </tr>\n",
       "    <tr>\n",
       "      <th>8</th>\n",
       "      <td>NaN</td>\n",
       "      <td>NaN</td>\n",
       "    </tr>\n",
       "    <tr>\n",
       "      <th>9</th>\n",
       "      <td>NaN</td>\n",
       "      <td>NaN</td>\n",
       "    </tr>\n",
       "    <tr>\n",
       "      <th>10</th>\n",
       "      <td>NaN</td>\n",
       "      <td>NaN</td>\n",
       "    </tr>\n",
       "    <tr>\n",
       "      <th>16</th>\n",
       "      <td>NaN</td>\n",
       "      <td>NaN</td>\n",
       "    </tr>\n",
       "    <tr>\n",
       "      <th>...</th>\n",
       "      <td>...</td>\n",
       "      <td>...</td>\n",
       "    </tr>\n",
       "    <tr>\n",
       "      <th>2469</th>\n",
       "      <td>NaN</td>\n",
       "      <td>NaN</td>\n",
       "    </tr>\n",
       "    <tr>\n",
       "      <th>2475</th>\n",
       "      <td>NaN</td>\n",
       "      <td>NaN</td>\n",
       "    </tr>\n",
       "    <tr>\n",
       "      <th>2479</th>\n",
       "      <td>NaN</td>\n",
       "      <td>NaN</td>\n",
       "    </tr>\n",
       "    <tr>\n",
       "      <th>2487</th>\n",
       "      <td>NaN</td>\n",
       "      <td>NaN</td>\n",
       "    </tr>\n",
       "    <tr>\n",
       "      <th>2496</th>\n",
       "      <td>NaN</td>\n",
       "      <td>NaN</td>\n",
       "    </tr>\n",
       "  </tbody>\n",
       "</table>\n",
       "<p>2070 rows × 2 columns</p>\n",
       "</div>"
      ],
      "text/plain": [
       "      Annual Income  Credit Score\n",
       "5               NaN           NaN\n",
       "8               NaN           NaN\n",
       "9               NaN           NaN\n",
       "10              NaN           NaN\n",
       "16              NaN           NaN\n",
       "...             ...           ...\n",
       "2469            NaN           NaN\n",
       "2475            NaN           NaN\n",
       "2479            NaN           NaN\n",
       "2487            NaN           NaN\n",
       "2496            NaN           NaN\n",
       "\n",
       "[2070 rows x 2 columns]"
      ]
     },
     "execution_count": 42,
     "metadata": {},
     "output_type": "execute_result"
    }
   ],
   "source": [
    "income_score = data.loc[(data['Annual Income'].isnull()) & (data['Credit Score'].isnull()), ['Annual Income', 'Credit Score']]\n",
    "income_score"
   ]
  },
  {
   "cell_type": "markdown",
   "metadata": {},
   "source": [
    "Количество записей, для которых оба столбца незаполнены составляет 2070. Так как 2070+7930 = 10000 можно сделать вывод, что записи, в которых не заполнены оба столбца для одновременно тестовой и обучающей выборки - одни и те же."
   ]
  },
  {
   "cell_type": "code",
   "execution_count": 43,
   "metadata": {},
   "outputs": [
    {
     "data": {
      "text/plain": [
       "count    5.943000e+03\n",
       "mean     1.366392e+06\n",
       "std      8.453392e+05\n",
       "min      1.645970e+05\n",
       "25%      8.443410e+05\n",
       "50%      1.168386e+06\n",
       "75%      1.640137e+06\n",
       "max      1.014934e+07\n",
       "Name: Annual Income, dtype: float64"
      ]
     },
     "execution_count": 43,
     "metadata": {},
     "output_type": "execute_result"
    }
   ],
   "source": [
    "train_ds['Annual Income'].describe()"
   ]
  },
  {
   "cell_type": "code",
   "execution_count": 44,
   "metadata": {},
   "outputs": [
    {
     "data": {
      "text/plain": [
       "count    5943.000000\n",
       "mean     1151.087498\n",
       "std      1604.451418\n",
       "min       585.000000\n",
       "25%       711.000000\n",
       "50%       731.000000\n",
       "75%       743.000000\n",
       "max      7510.000000\n",
       "Name: Credit Score, dtype: float64"
      ]
     },
     "execution_count": 44,
     "metadata": {},
     "output_type": "execute_result"
    }
   ],
   "source": [
    "train_ds['Credit Score'].describe()"
   ]
  },
  {
   "cell_type": "markdown",
   "metadata": {},
   "source": [
    "#### Преобразование столбца \"Months since last delinquent\""
   ]
  },
  {
   "cell_type": "code",
   "execution_count": 45,
   "metadata": {},
   "outputs": [
    {
     "data": {
      "text/plain": [
       "<AxesSubplot:>"
      ]
     },
     "execution_count": 45,
     "metadata": {},
     "output_type": "execute_result"
    },
    {
     "data": {
      "image/png": "[encoded data removed]",
      "text/plain": [
       "<Figure size 432x288 with 1 Axes>"
      ]
     },
     "metadata": {
      "needs_background": "light"
     },
     "output_type": "display_data"
    }
   ],
   "source": [
    "data['Months since last delinquent'].hist(bins=30)"
   ]
  },
  {
   "cell_type": "code",
   "execution_count": 46,
   "metadata": {},
   "outputs": [
    {
     "data": {
      "text/plain": [
       "0.0     8646\n",
       "1.0     1162\n",
       "2.0      122\n",
       "3.0       42\n",
       "5.0       11\n",
       "4.0       10\n",
       "6.0        4\n",
       "7.0        2\n",
       "15.0       1\n",
       "Name: Number of Credit Problems, dtype: int64"
      ]
     },
     "execution_count": 46,
     "metadata": {},
     "output_type": "execute_result"
    }
   ],
   "source": [
    "data['Number of Credit Problems'].value_counts()"
   ]
  },
  {
   "cell_type": "code",
   "execution_count": 47,
   "metadata": {},
   "outputs": [
    {
     "data": {
      "text/plain": [
       "<AxesSubplot:>"
      ]
     },
     "execution_count": 47,
     "metadata": {},
     "output_type": "execute_result"
    },
    {
     "data": {
      "image/png": "[encoded data removed]",
      "text/plain": [
       "<Figure size 432x288 with 1 Axes>"
      ]
     },
     "metadata": {
      "needs_background": "light"
     },
     "output_type": "display_data"
    }
   ],
   "source": [
    "data['Number of Credit Problems'].hist(bins=30)"
   ]
  },
  {
   "cell_type": "code",
   "execution_count": 48,
   "metadata": {},
   "outputs": [
    {
     "data": {
      "text/plain": [
       "count    4561.000000\n",
       "mean       34.564569\n",
       "std        21.771990\n",
       "min         0.000000\n",
       "25%        16.000000\n",
       "50%        32.000000\n",
       "75%        50.000000\n",
       "max       118.000000\n",
       "Name: Months since last delinquent, dtype: float64"
      ]
     },
     "execution_count": 48,
     "metadata": {},
     "output_type": "execute_result"
    }
   ],
   "source": [
    "nndata = data[data['Months since last delinquent'].notnull()]\n",
    "nndata['Months since last delinquent'].describe()"
   ]
  },
  {
   "cell_type": "code",
   "execution_count": 49,
   "metadata": {},
   "outputs": [],
   "source": [
    "data['Months since last delinquent'].fillna(32, inplace=True)"
   ]
  },
  {
   "cell_type": "code",
   "execution_count": 50,
   "metadata": {},
   "outputs": [
    {
     "name": "stdout",
     "output_type": "stream",
     "text": [
      "<class 'pandas.core.frame.DataFrame'>\n",
      "Int64Index: 10000 entries, 0 to 2499\n",
      "Data columns (total 27 columns):\n",
      " #   Column                        Non-Null Count  Dtype  \n",
      "---  ------                        --------------  -----  \n",
      " 0   Home Ownership                10000 non-null  object \n",
      " 1   Annual Income                 7930 non-null   float64\n",
      " 2   Years in current job          10000 non-null  float64\n",
      " 3   Tax Liens                     10000 non-null  float64\n",
      " 4   Number of Open Accounts       10000 non-null  float64\n",
      " 5   Years of Credit History       10000 non-null  float64\n",
      " 6   Maximum Open Credit           10000 non-null  float64\n",
      " 7   Number of Credit Problems     10000 non-null  float64\n",
      " 8   Months since last delinquent  10000 non-null  float64\n",
      " 9   Bankruptcies                  9983 non-null   float64\n",
      " 10  Purpose                       10000 non-null  object \n",
      " 11  Term                          10000 non-null  object \n",
      " 12  Current Loan Amount           10000 non-null  float64\n",
      " 13  Current Credit Balance        10000 non-null  float64\n",
      " 14  Monthly Debt                  10000 non-null  float64\n",
      " 15  Credit Score                  7930 non-null   float64\n",
      " 16  Credit Default                7500 non-null   float64\n",
      " 17  freq_encode_ownership         10000 non-null  float64\n",
      " 18  is_hown_bin_0                 10000 non-null  float64\n",
      " 19  is_hown_bin_1                 10000 non-null  float64\n",
      " 20  is_hown_bin_2                 10000 non-null  float64\n",
      " 21  is_hown_bin_3                 10000 non-null  float64\n",
      " 22  is_purpose_bin_0              10000 non-null  float64\n",
      " 23  is_purpose_bin_1              10000 non-null  float64\n",
      " 24  is_purpose_bin_2              10000 non-null  float64\n",
      " 25  is_term_bin_0                 10000 non-null  float64\n",
      " 26  is_term_bin_1                 10000 non-null  float64\n",
      "dtypes: float64(24), object(3)\n",
      "memory usage: 2.1+ MB\n"
     ]
    }
   ],
   "source": [
    "data.info()"
   ]
  },
  {
   "cell_type": "code",
   "execution_count": 51,
   "metadata": {},
   "outputs": [
    {
     "data": {
      "text/html": [
       "<div>\n",
       "<style scoped>\n",
       "    .dataframe tbody tr th:only-of-type {\n",
       "        vertical-align: middle;\n",
       "    }\n",
       "\n",
       "    .dataframe tbody tr th {\n",
       "        vertical-align: top;\n",
       "    }\n",
       "\n",
       "    .dataframe thead th {\n",
       "        text-align: right;\n",
       "    }\n",
       "</style>\n",
       "<table border=\"1\" class=\"dataframe\">\n",
       "  <thead>\n",
       "    <tr style=\"text-align: right;\">\n",
       "      <th></th>\n",
       "      <th>Home Ownership</th>\n",
       "      <th>Annual Income</th>\n",
       "      <th>Years in current job</th>\n",
       "      <th>Tax Liens</th>\n",
       "      <th>Number of Open Accounts</th>\n",
       "      <th>Years of Credit History</th>\n",
       "      <th>Maximum Open Credit</th>\n",
       "      <th>Number of Credit Problems</th>\n",
       "      <th>Months since last delinquent</th>\n",
       "      <th>Bankruptcies</th>\n",
       "      <th>...</th>\n",
       "      <th>freq_encode_ownership</th>\n",
       "      <th>is_hown_bin_0</th>\n",
       "      <th>is_hown_bin_1</th>\n",
       "      <th>is_hown_bin_2</th>\n",
       "      <th>is_hown_bin_3</th>\n",
       "      <th>is_purpose_bin_0</th>\n",
       "      <th>is_purpose_bin_1</th>\n",
       "      <th>is_purpose_bin_2</th>\n",
       "      <th>is_term_bin_0</th>\n",
       "      <th>is_term_bin_1</th>\n",
       "    </tr>\n",
       "  </thead>\n",
       "  <tbody>\n",
       "    <tr>\n",
       "      <th>100</th>\n",
       "      <td>Own Home</td>\n",
       "      <td>337079.0</td>\n",
       "      <td>2.0</td>\n",
       "      <td>0.0</td>\n",
       "      <td>9.0</td>\n",
       "      <td>39.6</td>\n",
       "      <td>644204.0</td>\n",
       "      <td>0.0</td>\n",
       "      <td>0.0</td>\n",
       "      <td>NaN</td>\n",
       "      <td>...</td>\n",
       "      <td>0.0895</td>\n",
       "      <td>0.0</td>\n",
       "      <td>0.0</td>\n",
       "      <td>1.0</td>\n",
       "      <td>0.0</td>\n",
       "      <td>0.0</td>\n",
       "      <td>0.0</td>\n",
       "      <td>1.0</td>\n",
       "      <td>0.0</td>\n",
       "      <td>1.0</td>\n",
       "    </tr>\n",
       "    <tr>\n",
       "      <th>256</th>\n",
       "      <td>Rent</td>\n",
       "      <td>857660.0</td>\n",
       "      <td>2.0</td>\n",
       "      <td>0.0</td>\n",
       "      <td>6.0</td>\n",
       "      <td>19.7</td>\n",
       "      <td>291082.0</td>\n",
       "      <td>0.0</td>\n",
       "      <td>0.0</td>\n",
       "      <td>NaN</td>\n",
       "      <td>...</td>\n",
       "      <td>0.4224</td>\n",
       "      <td>0.0</td>\n",
       "      <td>0.0</td>\n",
       "      <td>0.0</td>\n",
       "      <td>1.0</td>\n",
       "      <td>0.0</td>\n",
       "      <td>1.0</td>\n",
       "      <td>0.0</td>\n",
       "      <td>0.0</td>\n",
       "      <td>1.0</td>\n",
       "    </tr>\n",
       "    <tr>\n",
       "      <th>257</th>\n",
       "      <td>Home Mortgage</td>\n",
       "      <td>NaN</td>\n",
       "      <td>4.0</td>\n",
       "      <td>0.0</td>\n",
       "      <td>15.0</td>\n",
       "      <td>13.6</td>\n",
       "      <td>1556390.0</td>\n",
       "      <td>0.0</td>\n",
       "      <td>0.0</td>\n",
       "      <td>NaN</td>\n",
       "      <td>...</td>\n",
       "      <td>0.4862</td>\n",
       "      <td>0.0</td>\n",
       "      <td>1.0</td>\n",
       "      <td>0.0</td>\n",
       "      <td>0.0</td>\n",
       "      <td>0.0</td>\n",
       "      <td>1.0</td>\n",
       "      <td>0.0</td>\n",
       "      <td>0.0</td>\n",
       "      <td>1.0</td>\n",
       "    </tr>\n",
       "    <tr>\n",
       "      <th>898</th>\n",
       "      <td>Rent</td>\n",
       "      <td>739005.0</td>\n",
       "      <td>4.0</td>\n",
       "      <td>0.0</td>\n",
       "      <td>20.0</td>\n",
       "      <td>18.3</td>\n",
       "      <td>2177758.0</td>\n",
       "      <td>0.0</td>\n",
       "      <td>0.0</td>\n",
       "      <td>NaN</td>\n",
       "      <td>...</td>\n",
       "      <td>0.4224</td>\n",
       "      <td>0.0</td>\n",
       "      <td>0.0</td>\n",
       "      <td>0.0</td>\n",
       "      <td>1.0</td>\n",
       "      <td>0.0</td>\n",
       "      <td>1.0</td>\n",
       "      <td>0.0</td>\n",
       "      <td>0.0</td>\n",
       "      <td>1.0</td>\n",
       "    </tr>\n",
       "    <tr>\n",
       "      <th>1404</th>\n",
       "      <td>Rent</td>\n",
       "      <td>349391.0</td>\n",
       "      <td>1.0</td>\n",
       "      <td>0.0</td>\n",
       "      <td>4.0</td>\n",
       "      <td>12.7</td>\n",
       "      <td>0.0</td>\n",
       "      <td>0.0</td>\n",
       "      <td>0.0</td>\n",
       "      <td>NaN</td>\n",
       "      <td>...</td>\n",
       "      <td>0.4224</td>\n",
       "      <td>0.0</td>\n",
       "      <td>0.0</td>\n",
       "      <td>0.0</td>\n",
       "      <td>1.0</td>\n",
       "      <td>0.0</td>\n",
       "      <td>0.0</td>\n",
       "      <td>1.0</td>\n",
       "      <td>0.0</td>\n",
       "      <td>1.0</td>\n",
       "    </tr>\n",
       "  </tbody>\n",
       "</table>\n",
       "<p>5 rows × 27 columns</p>\n",
       "</div>"
      ],
      "text/plain": [
       "     Home Ownership  Annual Income  Years in current job  Tax Liens  \\\n",
       "100        Own Home       337079.0                   2.0        0.0   \n",
       "256            Rent       857660.0                   2.0        0.0   \n",
       "257   Home Mortgage            NaN                   4.0        0.0   \n",
       "898            Rent       739005.0                   4.0        0.0   \n",
       "1404           Rent       349391.0                   1.0        0.0   \n",
       "\n",
       "      Number of Open Accounts  Years of Credit History  Maximum Open Credit  \\\n",
       "100                       9.0                     39.6             644204.0   \n",
       "256                       6.0                     19.7             291082.0   \n",
       "257                      15.0                     13.6            1556390.0   \n",
       "898                      20.0                     18.3            2177758.0   \n",
       "1404                      4.0                     12.7                  0.0   \n",
       "\n",
       "      Number of Credit Problems  Months since last delinquent  Bankruptcies  \\\n",
       "100                         0.0                           0.0           NaN   \n",
       "256                         0.0                           0.0           NaN   \n",
       "257                         0.0                           0.0           NaN   \n",
       "898                         0.0                           0.0           NaN   \n",
       "1404                        0.0                           0.0           NaN   \n",
       "\n",
       "      ... freq_encode_ownership is_hown_bin_0  is_hown_bin_1  is_hown_bin_2  \\\n",
       "100   ...                0.0895           0.0            0.0            1.0   \n",
       "256   ...                0.4224           0.0            0.0            0.0   \n",
       "257   ...                0.4862           0.0            1.0            0.0   \n",
       "898   ...                0.4224           0.0            0.0            0.0   \n",
       "1404  ...                0.4224           0.0            0.0            0.0   \n",
       "\n",
       "      is_hown_bin_3  is_purpose_bin_0  is_purpose_bin_1  is_purpose_bin_2  \\\n",
       "100             0.0               0.0               0.0               1.0   \n",
       "256             1.0               0.0               1.0               0.0   \n",
       "257             0.0               0.0               1.0               0.0   \n",
       "898             1.0               0.0               1.0               0.0   \n",
       "1404            1.0               0.0               0.0               1.0   \n",
       "\n",
       "      is_term_bin_0  is_term_bin_1  \n",
       "100             0.0            1.0  \n",
       "256             0.0            1.0  \n",
       "257             0.0            1.0  \n",
       "898             0.0            1.0  \n",
       "1404            0.0            1.0  \n",
       "\n",
       "[5 rows x 27 columns]"
      ]
     },
     "execution_count": 51,
     "metadata": {},
     "output_type": "execute_result"
    }
   ],
   "source": [
    "data[data['Bankruptcies'].isnull()].head()"
   ]
  },
  {
   "cell_type": "code",
   "execution_count": 52,
   "metadata": {},
   "outputs": [
    {
     "data": {
      "text/plain": [
       "0.0    8912\n",
       "1.0    1020\n",
       "2.0      36\n",
       "3.0      10\n",
       "4.0       3\n",
       "5.0       2\n",
       "Name: Bankruptcies, dtype: int64"
      ]
     },
     "execution_count": 52,
     "metadata": {},
     "output_type": "execute_result"
    }
   ],
   "source": [
    "data['Bankruptcies'].value_counts()"
   ]
  },
  {
   "cell_type": "code",
   "execution_count": 53,
   "metadata": {},
   "outputs": [
    {
     "data": {
      "text/plain": [
       "count    9983.000000\n",
       "mean        0.114595\n",
       "std         0.349729\n",
       "min         0.000000\n",
       "25%         0.000000\n",
       "50%         0.000000\n",
       "75%         0.000000\n",
       "max         5.000000\n",
       "Name: Bankruptcies, dtype: float64"
      ]
     },
     "execution_count": 53,
     "metadata": {},
     "output_type": "execute_result"
    }
   ],
   "source": [
    "data['Bankruptcies'].describe()"
   ]
  },
  {
   "cell_type": "markdown",
   "metadata": {},
   "source": [
    "Заполняем пропуски по медиане"
   ]
  },
  {
   "cell_type": "code",
   "execution_count": 54,
   "metadata": {},
   "outputs": [],
   "source": [
    "data['Bankruptcies'] = data['Bankruptcies'].fillna(0)"
   ]
  },
  {
   "cell_type": "markdown",
   "metadata": {},
   "source": [
    "#### Выбросы для данных Credit Score"
   ]
  },
  {
   "cell_type": "code",
   "execution_count": 55,
   "metadata": {},
   "outputs": [
    {
     "data": {
      "text/plain": [
       "<AxesSubplot:>"
      ]
     },
     "execution_count": 55,
     "metadata": {},
     "output_type": "execute_result"
    },
    {
     "data": {
      "image/png": "[encoded data removed]",
      "text/plain": [
       "<Figure size 432x288 with 1 Axes>"
      ]
     },
     "metadata": {
      "needs_background": "light"
     },
     "output_type": "display_data"
    }
   ],
   "source": [
    "data['Credit Score'].hist(bins=30)"
   ]
  },
  {
   "cell_type": "code",
   "execution_count": 56,
   "metadata": {},
   "outputs": [
    {
     "data": {
      "text/plain": [
       "count     560.000000\n",
       "mean     7112.482143\n",
       "std       304.097391\n",
       "min      6060.000000\n",
       "25%      6960.000000\n",
       "50%      7190.000000\n",
       "75%      7340.000000\n",
       "max      7510.000000\n",
       "Name: Credit Score, dtype: float64"
      ]
     },
     "execution_count": 56,
     "metadata": {},
     "output_type": "execute_result"
    }
   ],
   "source": [
    "data.loc[data['Credit Score']>5000, 'Credit Score'].describe()"
   ]
  },
  {
   "cell_type": "markdown",
   "metadata": {},
   "source": [
    "Некоторое количество данных Credit Score в десять раз отличается от основного объема. Предположим, что это ошибка в данных и их нужно исправить."
   ]
  },
  {
   "cell_type": "code",
   "execution_count": 57,
   "metadata": {},
   "outputs": [],
   "source": [
    "data['Credit Score'] = data['Credit Score'].apply(lambda x: x/10 if x>5000 else x)"
   ]
  },
  {
   "cell_type": "markdown",
   "metadata": {},
   "source": [
    "#### Annual Income and Credit Score"
   ]
  },
  {
   "cell_type": "markdown",
   "metadata": {},
   "source": [
    "Для этих параметров применим линейную регрессию для заполнения пропущенных данных"
   ]
  },
  {
   "cell_type": "code",
   "execution_count": 58,
   "metadata": {},
   "outputs": [
    {
     "data": {
      "text/html": [
       "<div>\n",
       "<style scoped>\n",
       "    .dataframe tbody tr th:only-of-type {\n",
       "        vertical-align: middle;\n",
       "    }\n",
       "\n",
       "    .dataframe tbody tr th {\n",
       "        vertical-align: top;\n",
       "    }\n",
       "\n",
       "    .dataframe thead th {\n",
       "        text-align: right;\n",
       "    }\n",
       "</style>\n",
       "<table border=\"1\" class=\"dataframe\">\n",
       "  <thead>\n",
       "    <tr style=\"text-align: right;\">\n",
       "      <th></th>\n",
       "      <th>Home Ownership</th>\n",
       "      <th>Annual Income</th>\n",
       "      <th>Years in current job</th>\n",
       "      <th>Tax Liens</th>\n",
       "      <th>Number of Open Accounts</th>\n",
       "      <th>Years of Credit History</th>\n",
       "      <th>Maximum Open Credit</th>\n",
       "      <th>Number of Credit Problems</th>\n",
       "      <th>Months since last delinquent</th>\n",
       "      <th>Bankruptcies</th>\n",
       "      <th>...</th>\n",
       "      <th>freq_encode_ownership</th>\n",
       "      <th>is_hown_bin_0</th>\n",
       "      <th>is_hown_bin_1</th>\n",
       "      <th>is_hown_bin_2</th>\n",
       "      <th>is_hown_bin_3</th>\n",
       "      <th>is_purpose_bin_0</th>\n",
       "      <th>is_purpose_bin_1</th>\n",
       "      <th>is_purpose_bin_2</th>\n",
       "      <th>is_term_bin_0</th>\n",
       "      <th>is_term_bin_1</th>\n",
       "    </tr>\n",
       "  </thead>\n",
       "  <tbody>\n",
       "    <tr>\n",
       "      <th>0</th>\n",
       "      <td>Own Home</td>\n",
       "      <td>482087.0</td>\n",
       "      <td>20.0</td>\n",
       "      <td>0.0</td>\n",
       "      <td>11.0</td>\n",
       "      <td>26.3</td>\n",
       "      <td>685960.0</td>\n",
       "      <td>1.0</td>\n",
       "      <td>32.0</td>\n",
       "      <td>1.0</td>\n",
       "      <td>...</td>\n",
       "      <td>0.0895</td>\n",
       "      <td>0.0</td>\n",
       "      <td>0.0</td>\n",
       "      <td>1.0</td>\n",
       "      <td>0.0</td>\n",
       "      <td>0.0</td>\n",
       "      <td>1.0</td>\n",
       "      <td>0.0</td>\n",
       "      <td>0.0</td>\n",
       "      <td>1.0</td>\n",
       "    </tr>\n",
       "    <tr>\n",
       "      <th>1</th>\n",
       "      <td>Own Home</td>\n",
       "      <td>1025487.0</td>\n",
       "      <td>21.0</td>\n",
       "      <td>0.0</td>\n",
       "      <td>15.0</td>\n",
       "      <td>15.3</td>\n",
       "      <td>1181730.0</td>\n",
       "      <td>0.0</td>\n",
       "      <td>32.0</td>\n",
       "      <td>0.0</td>\n",
       "      <td>...</td>\n",
       "      <td>0.0895</td>\n",
       "      <td>0.0</td>\n",
       "      <td>0.0</td>\n",
       "      <td>1.0</td>\n",
       "      <td>0.0</td>\n",
       "      <td>0.0</td>\n",
       "      <td>1.0</td>\n",
       "      <td>0.0</td>\n",
       "      <td>1.0</td>\n",
       "      <td>0.0</td>\n",
       "    </tr>\n",
       "    <tr>\n",
       "      <th>2</th>\n",
       "      <td>Home Mortgage</td>\n",
       "      <td>751412.0</td>\n",
       "      <td>16.0</td>\n",
       "      <td>0.0</td>\n",
       "      <td>11.0</td>\n",
       "      <td>35.0</td>\n",
       "      <td>1182434.0</td>\n",
       "      <td>0.0</td>\n",
       "      <td>32.0</td>\n",
       "      <td>0.0</td>\n",
       "      <td>...</td>\n",
       "      <td>0.4862</td>\n",
       "      <td>0.0</td>\n",
       "      <td>1.0</td>\n",
       "      <td>0.0</td>\n",
       "      <td>0.0</td>\n",
       "      <td>0.0</td>\n",
       "      <td>1.0</td>\n",
       "      <td>0.0</td>\n",
       "      <td>0.0</td>\n",
       "      <td>1.0</td>\n",
       "    </tr>\n",
       "    <tr>\n",
       "      <th>3</th>\n",
       "      <td>Own Home</td>\n",
       "      <td>805068.0</td>\n",
       "      <td>12.0</td>\n",
       "      <td>0.0</td>\n",
       "      <td>8.0</td>\n",
       "      <td>22.5</td>\n",
       "      <td>147400.0</td>\n",
       "      <td>1.0</td>\n",
       "      <td>32.0</td>\n",
       "      <td>1.0</td>\n",
       "      <td>...</td>\n",
       "      <td>0.0895</td>\n",
       "      <td>0.0</td>\n",
       "      <td>0.0</td>\n",
       "      <td>1.0</td>\n",
       "      <td>0.0</td>\n",
       "      <td>0.0</td>\n",
       "      <td>1.0</td>\n",
       "      <td>0.0</td>\n",
       "      <td>0.0</td>\n",
       "      <td>1.0</td>\n",
       "    </tr>\n",
       "    <tr>\n",
       "      <th>4</th>\n",
       "      <td>Rent</td>\n",
       "      <td>776264.0</td>\n",
       "      <td>16.0</td>\n",
       "      <td>0.0</td>\n",
       "      <td>13.0</td>\n",
       "      <td>13.6</td>\n",
       "      <td>385836.0</td>\n",
       "      <td>1.0</td>\n",
       "      <td>32.0</td>\n",
       "      <td>0.0</td>\n",
       "      <td>...</td>\n",
       "      <td>0.4224</td>\n",
       "      <td>0.0</td>\n",
       "      <td>0.0</td>\n",
       "      <td>0.0</td>\n",
       "      <td>1.0</td>\n",
       "      <td>0.0</td>\n",
       "      <td>1.0</td>\n",
       "      <td>0.0</td>\n",
       "      <td>0.0</td>\n",
       "      <td>1.0</td>\n",
       "    </tr>\n",
       "  </tbody>\n",
       "</table>\n",
       "<p>5 rows × 27 columns</p>\n",
       "</div>"
      ],
      "text/plain": [
       "  Home Ownership  Annual Income  Years in current job  Tax Liens  \\\n",
       "0       Own Home       482087.0                  20.0        0.0   \n",
       "1       Own Home      1025487.0                  21.0        0.0   \n",
       "2  Home Mortgage       751412.0                  16.0        0.0   \n",
       "3       Own Home       805068.0                  12.0        0.0   \n",
       "4           Rent       776264.0                  16.0        0.0   \n",
       "\n",
       "   Number of Open Accounts  Years of Credit History  Maximum Open Credit  \\\n",
       "0                     11.0                     26.3             685960.0   \n",
       "1                     15.0                     15.3            1181730.0   \n",
       "2                     11.0                     35.0            1182434.0   \n",
       "3                      8.0                     22.5             147400.0   \n",
       "4                     13.0                     13.6             385836.0   \n",
       "\n",
       "   Number of Credit Problems  Months since last delinquent  Bankruptcies  ...  \\\n",
       "0                        1.0                          32.0           1.0  ...   \n",
       "1                        0.0                          32.0           0.0  ...   \n",
       "2                        0.0                          32.0           0.0  ...   \n",
       "3                        1.0                          32.0           1.0  ...   \n",
       "4                        1.0                          32.0           0.0  ...   \n",
       "\n",
       "  freq_encode_ownership is_hown_bin_0  is_hown_bin_1  is_hown_bin_2  \\\n",
       "0                0.0895           0.0            0.0            1.0   \n",
       "1                0.0895           0.0            0.0            1.0   \n",
       "2                0.4862           0.0            1.0            0.0   \n",
       "3                0.0895           0.0            0.0            1.0   \n",
       "4                0.4224           0.0            0.0            0.0   \n",
       "\n",
       "   is_hown_bin_3  is_purpose_bin_0  is_purpose_bin_1  is_purpose_bin_2  \\\n",
       "0            0.0               0.0               1.0               0.0   \n",
       "1            0.0               0.0               1.0               0.0   \n",
       "2            0.0               0.0               1.0               0.0   \n",
       "3            0.0               0.0               1.0               0.0   \n",
       "4            1.0               0.0               1.0               0.0   \n",
       "\n",
       "   is_term_bin_0  is_term_bin_1  \n",
       "0            0.0            1.0  \n",
       "1            1.0            0.0  \n",
       "2            0.0            1.0  \n",
       "3            0.0            1.0  \n",
       "4            0.0            1.0  \n",
       "\n",
       "[5 rows x 27 columns]"
      ]
     },
     "execution_count": 58,
     "metadata": {},
     "output_type": "execute_result"
    }
   ],
   "source": [
    "income_data = data[(data['Annual Income'].notnull()) & (data['Credit Score'].notnull())]\n",
    "income_data.head()"
   ]
  },
  {
   "cell_type": "code",
   "execution_count": 59,
   "metadata": {},
   "outputs": [],
   "source": [
    "income_data_num = income_data.select_dtypes(include='float64')"
   ]
  },
  {
   "cell_type": "code",
   "execution_count": 60,
   "metadata": {},
   "outputs": [
    {
     "name": "stdout",
     "output_type": "stream",
     "text": [
      "<class 'pandas.core.frame.DataFrame'>\n",
      "Int64Index: 7930 entries, 0 to 2499\n",
      "Data columns (total 24 columns):\n",
      " #   Column                        Non-Null Count  Dtype  \n",
      "---  ------                        --------------  -----  \n",
      " 0   Annual Income                 7930 non-null   float64\n",
      " 1   Years in current job          7930 non-null   float64\n",
      " 2   Tax Liens                     7930 non-null   float64\n",
      " 3   Number of Open Accounts       7930 non-null   float64\n",
      " 4   Years of Credit History       7930 non-null   float64\n",
      " 5   Maximum Open Credit           7930 non-null   float64\n",
      " 6   Number of Credit Problems     7930 non-null   float64\n",
      " 7   Months since last delinquent  7930 non-null   float64\n",
      " 8   Bankruptcies                  7930 non-null   float64\n",
      " 9   Current Loan Amount           7930 non-null   float64\n",
      " 10  Current Credit Balance        7930 non-null   float64\n",
      " 11  Monthly Debt                  7930 non-null   float64\n",
      " 12  Credit Score                  7930 non-null   float64\n",
      " 13  Credit Default                5943 non-null   float64\n",
      " 14  freq_encode_ownership         7930 non-null   float64\n",
      " 15  is_hown_bin_0                 7930 non-null   float64\n",
      " 16  is_hown_bin_1                 7930 non-null   float64\n",
      " 17  is_hown_bin_2                 7930 non-null   float64\n",
      " 18  is_hown_bin_3                 7930 non-null   float64\n",
      " 19  is_purpose_bin_0              7930 non-null   float64\n",
      " 20  is_purpose_bin_1              7930 non-null   float64\n",
      " 21  is_purpose_bin_2              7930 non-null   float64\n",
      " 22  is_term_bin_0                 7930 non-null   float64\n",
      " 23  is_term_bin_1                 7930 non-null   float64\n",
      "dtypes: float64(24)\n",
      "memory usage: 1.5 MB\n"
     ]
    }
   ],
   "source": [
    "income_data_num.info()"
   ]
  },
  {
   "cell_type": "markdown",
   "metadata": {},
   "source": [
    "INCOME_FEATURE_NAMES - столбцы, которые будут масштабироваться\n",
    "\n",
    "BIN_FEATURE_NAMES - столбцы классификации one-hot"
   ]
  },
  {
   "cell_type": "code",
   "execution_count": 61,
   "metadata": {},
   "outputs": [],
   "source": [
    "INCOME_FEATURE_NAMES = ['Annual Income', 'Tax Liens', \n",
    "                     'Number of Open Accounts', 'Years of Credit History', 'Maximum Open Credit',\n",
    "                      'Number of Credit Problems', 'Months since last delinquent', 'Bankruptcies',\n",
    "                     'Current Loan Amount', 'Current Credit Balance', 'Monthly Debt', 'Years in current job',\n",
    "                       'freq_encode_ownership'\n",
    "                         ]\n",
    "\n",
    "BIN_FEATURE_NAMES = ['is_hown_bin_0',\n",
    " 'is_hown_bin_1',\n",
    " 'is_hown_bin_2',\n",
    " 'is_hown_bin_3',\n",
    " 'is_purpose_bin_0',\n",
    " 'is_purpose_bin_1',\n",
    " 'is_purpose_bin_2',\n",
    " 'is_term_bin_0',\n",
    " 'is_term_bin_1']\n",
    "\n"
   ]
  },
  {
   "cell_type": "code",
   "execution_count": 62,
   "metadata": {},
   "outputs": [],
   "source": [
    "def lin_regression_annual_income(df, features, bin_features, target):\n",
    "    scaler = StandardScaler()\n",
    "    \n",
    "    df_norm = df.copy()\n",
    "    df_norm[features[1:]] = scaler.fit_transform(df_norm[features].drop(columns=target))\n",
    "    df = df_norm.copy()\n",
    "    \n",
    "    \n",
    "    X_train, X_test, y_train, y_test = \\\n",
    "        train_test_split(df[features+bin_features].drop(columns=target), df[target], test_size=0.3)\n",
    "        #train_test_split(df.drop(columns=target), df[target], test_size=0.3)\n",
    "    \n",
    "    lr = LinearRegression()\n",
    "    lr.fit(X_train, y_train)    \n",
    "    y_pred = lr.predict(X_test)\n",
    "    \n",
    "    check_test = pd.DataFrame({\n",
    "        \"y_test\": y_test,\n",
    "        \"y_pred\": y_pred.flatten(),\n",
    "    })\n",
    "    check_test[\"error\"] = check_test[\"y_pred\"] - check_test[\"y_test\"]\n",
    "    mean_squared_error(check_test[\"y_pred\"], check_test[\"y_test\"])\n",
    "    lr.coef_\n",
    "\n",
    "    \n",
    "    plt.rcParams['figure.figsize'] = 6, 4\n",
    "\n",
    "\n",
    "    plt.barh(sorted(df[features+bin_features].drop(columns=target)), lr.coef_.flatten())\n",
    "\n",
    "    plt.xlabel(\"Вес признака\")\n",
    "    plt.ylabel(\"Признак\")\n",
    "\n",
    "    plt.show()\n",
    "    \n",
    "    return (scaler, lr)"
   ]
  },
  {
   "cell_type": "code",
   "execution_count": 63,
   "metadata": {},
   "outputs": [
    {
     "data": {
      "image/png": "[encoded data removed]",
      "text/plain": [
       "<Figure size 432x288 with 1 Axes>"
      ]
     },
     "metadata": {
      "needs_background": "light"
     },
     "output_type": "display_data"
    }
   ],
   "source": [
    "lin_scaler, lr = lin_regression_annual_income(income_data_num[income_data_num['Annual Income'].notnull()], \n",
    "                                                              INCOME_FEATURE_NAMES+BIN_FEATURE_NAMES, [],\n",
    "                                                              'Annual Income')"
   ]
  },
  {
   "cell_type": "markdown",
   "metadata": {},
   "source": [
    "Формируем отмасштабированные данные для ответов линейной регрессии"
   ]
  },
  {
   "cell_type": "code",
   "execution_count": 64,
   "metadata": {},
   "outputs": [],
   "source": [
    "df_norm = data[data['Annual Income'].isnull()].copy()\n",
    "df_norm[INCOME_FEATURE_NAMES[1:]+BIN_FEATURE_NAMES] = \\\n",
    "                lin_scaler.transform(df_norm[INCOME_FEATURE_NAMES[1:]+BIN_FEATURE_NAMES])\n",
    "data_ai = df_norm.copy()\n"
   ]
  },
  {
   "cell_type": "code",
   "execution_count": 65,
   "metadata": {},
   "outputs": [
    {
     "data": {
      "text/html": [
       "<div>\n",
       "<style scoped>\n",
       "    .dataframe tbody tr th:only-of-type {\n",
       "        vertical-align: middle;\n",
       "    }\n",
       "\n",
       "    .dataframe tbody tr th {\n",
       "        vertical-align: top;\n",
       "    }\n",
       "\n",
       "    .dataframe thead th {\n",
       "        text-align: right;\n",
       "    }\n",
       "</style>\n",
       "<table border=\"1\" class=\"dataframe\">\n",
       "  <thead>\n",
       "    <tr style=\"text-align: right;\">\n",
       "      <th></th>\n",
       "      <th>Home Ownership</th>\n",
       "      <th>Annual Income</th>\n",
       "      <th>Years in current job</th>\n",
       "      <th>Tax Liens</th>\n",
       "      <th>Number of Open Accounts</th>\n",
       "      <th>Years of Credit History</th>\n",
       "      <th>Maximum Open Credit</th>\n",
       "      <th>Number of Credit Problems</th>\n",
       "      <th>Months since last delinquent</th>\n",
       "      <th>Bankruptcies</th>\n",
       "      <th>...</th>\n",
       "      <th>freq_encode_ownership</th>\n",
       "      <th>is_hown_bin_0</th>\n",
       "      <th>is_hown_bin_1</th>\n",
       "      <th>is_hown_bin_2</th>\n",
       "      <th>is_hown_bin_3</th>\n",
       "      <th>is_purpose_bin_0</th>\n",
       "      <th>is_purpose_bin_1</th>\n",
       "      <th>is_purpose_bin_2</th>\n",
       "      <th>is_term_bin_0</th>\n",
       "      <th>is_term_bin_1</th>\n",
       "    </tr>\n",
       "  </thead>\n",
       "  <tbody>\n",
       "    <tr>\n",
       "      <th>5</th>\n",
       "      <td>Rent</td>\n",
       "      <td>NaN</td>\n",
       "      <td>0.199606</td>\n",
       "      <td>-0.099409</td>\n",
       "      <td>0.178534</td>\n",
       "      <td>-0.525605</td>\n",
       "      <td>-0.077097</td>\n",
       "      <td>-0.320239</td>\n",
       "      <td>-0.080994</td>\n",
       "      <td>-0.323543</td>\n",
       "      <td>...</td>\n",
       "      <td>-0.002937</td>\n",
       "      <td>-0.042054</td>\n",
       "      <td>-0.977307</td>\n",
       "      <td>-0.315284</td>\n",
       "      <td>1.176844</td>\n",
       "      <td>-0.128594</td>\n",
       "      <td>-1.964451</td>\n",
       "      <td>2.067877</td>\n",
       "      <td>1.658669</td>\n",
       "      <td>-1.658669</td>\n",
       "    </tr>\n",
       "    <tr>\n",
       "      <th>8</th>\n",
       "      <td>Home Mortgage</td>\n",
       "      <td>NaN</td>\n",
       "      <td>-0.333348</td>\n",
       "      <td>-0.099409</td>\n",
       "      <td>1.202233</td>\n",
       "      <td>-0.370273</td>\n",
       "      <td>-0.145152</td>\n",
       "      <td>1.599258</td>\n",
       "      <td>-0.080994</td>\n",
       "      <td>2.495905</td>\n",
       "      <td>...</td>\n",
       "      <td>0.571845</td>\n",
       "      <td>-0.042054</td>\n",
       "      <td>1.023220</td>\n",
       "      <td>-0.315284</td>\n",
       "      <td>-0.849730</td>\n",
       "      <td>-0.128594</td>\n",
       "      <td>-1.964451</td>\n",
       "      <td>2.067877</td>\n",
       "      <td>-0.602893</td>\n",
       "      <td>0.602893</td>\n",
       "    </tr>\n",
       "    <tr>\n",
       "      <th>9</th>\n",
       "      <td>Home Mortgage</td>\n",
       "      <td>NaN</td>\n",
       "      <td>-1.399255</td>\n",
       "      <td>-0.099409</td>\n",
       "      <td>-0.230945</td>\n",
       "      <td>0.886502</td>\n",
       "      <td>-0.050282</td>\n",
       "      <td>-0.320239</td>\n",
       "      <td>-1.836782</td>\n",
       "      <td>-0.323543</td>\n",
       "      <td>...</td>\n",
       "      <td>0.571845</td>\n",
       "      <td>-0.042054</td>\n",
       "      <td>1.023220</td>\n",
       "      <td>-0.315284</td>\n",
       "      <td>-0.849730</td>\n",
       "      <td>-0.128594</td>\n",
       "      <td>0.509048</td>\n",
       "      <td>-0.483588</td>\n",
       "      <td>1.658669</td>\n",
       "      <td>-1.658669</td>\n",
       "    </tr>\n",
       "    <tr>\n",
       "      <th>10</th>\n",
       "      <td>Home Mortgage</td>\n",
       "      <td>NaN</td>\n",
       "      <td>-1.532493</td>\n",
       "      <td>-0.099409</td>\n",
       "      <td>-0.845165</td>\n",
       "      <td>-0.963358</td>\n",
       "      <td>-0.097592</td>\n",
       "      <td>-0.320239</td>\n",
       "      <td>-0.080994</td>\n",
       "      <td>-0.323543</td>\n",
       "      <td>...</td>\n",
       "      <td>0.571845</td>\n",
       "      <td>-0.042054</td>\n",
       "      <td>1.023220</td>\n",
       "      <td>-0.315284</td>\n",
       "      <td>-0.849730</td>\n",
       "      <td>-0.128594</td>\n",
       "      <td>0.509048</td>\n",
       "      <td>-0.483588</td>\n",
       "      <td>-0.602893</td>\n",
       "      <td>0.602893</td>\n",
       "    </tr>\n",
       "    <tr>\n",
       "      <th>16</th>\n",
       "      <td>Rent</td>\n",
       "      <td>NaN</td>\n",
       "      <td>0.199606</td>\n",
       "      <td>-0.099409</td>\n",
       "      <td>-1.049905</td>\n",
       "      <td>-0.073730</td>\n",
       "      <td>0.021745</td>\n",
       "      <td>-0.320239</td>\n",
       "      <td>-0.080994</td>\n",
       "      <td>-0.323543</td>\n",
       "      <td>...</td>\n",
       "      <td>-0.002937</td>\n",
       "      <td>-0.042054</td>\n",
       "      <td>-0.977307</td>\n",
       "      <td>-0.315284</td>\n",
       "      <td>1.176844</td>\n",
       "      <td>-0.128594</td>\n",
       "      <td>0.509048</td>\n",
       "      <td>-0.483588</td>\n",
       "      <td>1.658669</td>\n",
       "      <td>-1.658669</td>\n",
       "    </tr>\n",
       "  </tbody>\n",
       "</table>\n",
       "<p>5 rows × 27 columns</p>\n",
       "</div>"
      ],
      "text/plain": [
       "   Home Ownership  Annual Income  Years in current job  Tax Liens  \\\n",
       "5            Rent            NaN              0.199606  -0.099409   \n",
       "8   Home Mortgage            NaN             -0.333348  -0.099409   \n",
       "9   Home Mortgage            NaN             -1.399255  -0.099409   \n",
       "10  Home Mortgage            NaN             -1.532493  -0.099409   \n",
       "16           Rent            NaN              0.199606  -0.099409   \n",
       "\n",
       "    Number of Open Accounts  Years of Credit History  Maximum Open Credit  \\\n",
       "5                  0.178534                -0.525605            -0.077097   \n",
       "8                  1.202233                -0.370273            -0.145152   \n",
       "9                 -0.230945                 0.886502            -0.050282   \n",
       "10                -0.845165                -0.963358            -0.097592   \n",
       "16                -1.049905                -0.073730             0.021745   \n",
       "\n",
       "    Number of Credit Problems  Months since last delinquent  Bankruptcies  \\\n",
       "5                   -0.320239                     -0.080994     -0.323543   \n",
       "8                    1.599258                     -0.080994      2.495905   \n",
       "9                   -0.320239                     -1.836782     -0.323543   \n",
       "10                  -0.320239                     -0.080994     -0.323543   \n",
       "16                  -0.320239                     -0.080994     -0.323543   \n",
       "\n",
       "    ... freq_encode_ownership is_hown_bin_0  is_hown_bin_1  is_hown_bin_2  \\\n",
       "5   ...             -0.002937     -0.042054      -0.977307      -0.315284   \n",
       "8   ...              0.571845     -0.042054       1.023220      -0.315284   \n",
       "9   ...              0.571845     -0.042054       1.023220      -0.315284   \n",
       "10  ...              0.571845     -0.042054       1.023220      -0.315284   \n",
       "16  ...             -0.002937     -0.042054      -0.977307      -0.315284   \n",
       "\n",
       "    is_hown_bin_3  is_purpose_bin_0  is_purpose_bin_1  is_purpose_bin_2  \\\n",
       "5        1.176844         -0.128594         -1.964451          2.067877   \n",
       "8       -0.849730         -0.128594         -1.964451          2.067877   \n",
       "9       -0.849730         -0.128594          0.509048         -0.483588   \n",
       "10      -0.849730         -0.128594          0.509048         -0.483588   \n",
       "16       1.176844         -0.128594          0.509048         -0.483588   \n",
       "\n",
       "    is_term_bin_0  is_term_bin_1  \n",
       "5        1.658669      -1.658669  \n",
       "8       -0.602893       0.602893  \n",
       "9        1.658669      -1.658669  \n",
       "10      -0.602893       0.602893  \n",
       "16       1.658669      -1.658669  \n",
       "\n",
       "[5 rows x 27 columns]"
      ]
     },
     "execution_count": 65,
     "metadata": {},
     "output_type": "execute_result"
    }
   ],
   "source": [
    "data_ai.head()"
   ]
  },
  {
   "cell_type": "markdown",
   "metadata": {},
   "source": [
    "Предсказание данных в столбце Annual Income"
   ]
  },
  {
   "cell_type": "code",
   "execution_count": 66,
   "metadata": {},
   "outputs": [],
   "source": [
    "data.loc[data['Annual Income'].isnull(), ['Annual Income']] = \\\n",
    "    lr.predict(data_ai.loc[data_ai['Annual Income'].isnull(), \\\n",
    "                        INCOME_FEATURE_NAMES+BIN_FEATURE_NAMES].drop(columns='Annual Income')) "
   ]
  },
  {
   "cell_type": "code",
   "execution_count": 67,
   "metadata": {},
   "outputs": [
    {
     "data": {
      "image/png": "[encoded data removed]",
      "text/plain": [
       "<Figure size 432x288 with 1 Axes>"
      ]
     },
     "metadata": {
      "needs_background": "light"
     },
     "output_type": "display_data"
    }
   ],
   "source": [
    "lin_scaler, lr_cscore = \\\n",
    "    lin_regression_annual_income(income_data_num, ['Credit Score']+INCOME_FEATURE_NAMES+BIN_FEATURE_NAMES, [], \n",
    "                                 'Credit Score')"
   ]
  },
  {
   "cell_type": "markdown",
   "metadata": {},
   "source": [
    "Формируем отмасштабированные данные для ответов линейной регрессии"
   ]
  },
  {
   "cell_type": "code",
   "execution_count": 68,
   "metadata": {},
   "outputs": [],
   "source": [
    "df_norm = data[data['Credit Score'].isnull()].copy()\n",
    "df_norm[INCOME_FEATURE_NAMES+BIN_FEATURE_NAMES] = \\\n",
    "        lin_scaler.transform(df_norm[INCOME_FEATURE_NAMES+BIN_FEATURE_NAMES])\n",
    "data_cs = df_norm.copy()"
   ]
  },
  {
   "cell_type": "code",
   "execution_count": 69,
   "metadata": {},
   "outputs": [
    {
     "data": {
      "text/html": [
       "<div>\n",
       "<style scoped>\n",
       "    .dataframe tbody tr th:only-of-type {\n",
       "        vertical-align: middle;\n",
       "    }\n",
       "\n",
       "    .dataframe tbody tr th {\n",
       "        vertical-align: top;\n",
       "    }\n",
       "\n",
       "    .dataframe thead th {\n",
       "        text-align: right;\n",
       "    }\n",
       "</style>\n",
       "<table border=\"1\" class=\"dataframe\">\n",
       "  <thead>\n",
       "    <tr style=\"text-align: right;\">\n",
       "      <th></th>\n",
       "      <th>Home Ownership</th>\n",
       "      <th>Annual Income</th>\n",
       "      <th>Years in current job</th>\n",
       "      <th>Tax Liens</th>\n",
       "      <th>Number of Open Accounts</th>\n",
       "      <th>Years of Credit History</th>\n",
       "      <th>Maximum Open Credit</th>\n",
       "      <th>Number of Credit Problems</th>\n",
       "      <th>Months since last delinquent</th>\n",
       "      <th>Bankruptcies</th>\n",
       "      <th>...</th>\n",
       "      <th>freq_encode_ownership</th>\n",
       "      <th>is_hown_bin_0</th>\n",
       "      <th>is_hown_bin_1</th>\n",
       "      <th>is_hown_bin_2</th>\n",
       "      <th>is_hown_bin_3</th>\n",
       "      <th>is_purpose_bin_0</th>\n",
       "      <th>is_purpose_bin_1</th>\n",
       "      <th>is_purpose_bin_2</th>\n",
       "      <th>is_term_bin_0</th>\n",
       "      <th>is_term_bin_1</th>\n",
       "    </tr>\n",
       "  </thead>\n",
       "  <tbody>\n",
       "    <tr>\n",
       "      <th>5</th>\n",
       "      <td>Rent</td>\n",
       "      <td>0.008815</td>\n",
       "      <td>0.199606</td>\n",
       "      <td>-0.099409</td>\n",
       "      <td>0.178534</td>\n",
       "      <td>-0.525605</td>\n",
       "      <td>-0.077097</td>\n",
       "      <td>-0.320239</td>\n",
       "      <td>-0.080994</td>\n",
       "      <td>-0.323543</td>\n",
       "      <td>...</td>\n",
       "      <td>-0.002937</td>\n",
       "      <td>-0.042054</td>\n",
       "      <td>-0.977307</td>\n",
       "      <td>-0.315284</td>\n",
       "      <td>1.176844</td>\n",
       "      <td>-0.128594</td>\n",
       "      <td>-1.964451</td>\n",
       "      <td>2.067877</td>\n",
       "      <td>1.658669</td>\n",
       "      <td>-1.658669</td>\n",
       "    </tr>\n",
       "    <tr>\n",
       "      <th>8</th>\n",
       "      <td>Home Mortgage</td>\n",
       "      <td>-0.760979</td>\n",
       "      <td>-0.333348</td>\n",
       "      <td>-0.099409</td>\n",
       "      <td>1.202233</td>\n",
       "      <td>-0.370273</td>\n",
       "      <td>-0.145152</td>\n",
       "      <td>1.599258</td>\n",
       "      <td>-0.080994</td>\n",
       "      <td>2.495905</td>\n",
       "      <td>...</td>\n",
       "      <td>0.571845</td>\n",
       "      <td>-0.042054</td>\n",
       "      <td>1.023220</td>\n",
       "      <td>-0.315284</td>\n",
       "      <td>-0.849730</td>\n",
       "      <td>-0.128594</td>\n",
       "      <td>-1.964451</td>\n",
       "      <td>2.067877</td>\n",
       "      <td>-0.602893</td>\n",
       "      <td>0.602893</td>\n",
       "    </tr>\n",
       "    <tr>\n",
       "      <th>9</th>\n",
       "      <td>Home Mortgage</td>\n",
       "      <td>0.183528</td>\n",
       "      <td>-1.399255</td>\n",
       "      <td>-0.099409</td>\n",
       "      <td>-0.230945</td>\n",
       "      <td>0.886502</td>\n",
       "      <td>-0.050282</td>\n",
       "      <td>-0.320239</td>\n",
       "      <td>-1.836782</td>\n",
       "      <td>-0.323543</td>\n",
       "      <td>...</td>\n",
       "      <td>0.571845</td>\n",
       "      <td>-0.042054</td>\n",
       "      <td>1.023220</td>\n",
       "      <td>-0.315284</td>\n",
       "      <td>-0.849730</td>\n",
       "      <td>-0.128594</td>\n",
       "      <td>0.509048</td>\n",
       "      <td>-0.483588</td>\n",
       "      <td>1.658669</td>\n",
       "      <td>-1.658669</td>\n",
       "    </tr>\n",
       "    <tr>\n",
       "      <th>10</th>\n",
       "      <td>Home Mortgage</td>\n",
       "      <td>-0.138297</td>\n",
       "      <td>-1.532493</td>\n",
       "      <td>-0.099409</td>\n",
       "      <td>-0.845165</td>\n",
       "      <td>-0.963358</td>\n",
       "      <td>-0.097592</td>\n",
       "      <td>-0.320239</td>\n",
       "      <td>-0.080994</td>\n",
       "      <td>-0.323543</td>\n",
       "      <td>...</td>\n",
       "      <td>0.571845</td>\n",
       "      <td>-0.042054</td>\n",
       "      <td>1.023220</td>\n",
       "      <td>-0.315284</td>\n",
       "      <td>-0.849730</td>\n",
       "      <td>-0.128594</td>\n",
       "      <td>0.509048</td>\n",
       "      <td>-0.483588</td>\n",
       "      <td>-0.602893</td>\n",
       "      <td>0.602893</td>\n",
       "    </tr>\n",
       "    <tr>\n",
       "      <th>16</th>\n",
       "      <td>Rent</td>\n",
       "      <td>0.059495</td>\n",
       "      <td>0.199606</td>\n",
       "      <td>-0.099409</td>\n",
       "      <td>-1.049905</td>\n",
       "      <td>-0.073730</td>\n",
       "      <td>0.021745</td>\n",
       "      <td>-0.320239</td>\n",
       "      <td>-0.080994</td>\n",
       "      <td>-0.323543</td>\n",
       "      <td>...</td>\n",
       "      <td>-0.002937</td>\n",
       "      <td>-0.042054</td>\n",
       "      <td>-0.977307</td>\n",
       "      <td>-0.315284</td>\n",
       "      <td>1.176844</td>\n",
       "      <td>-0.128594</td>\n",
       "      <td>0.509048</td>\n",
       "      <td>-0.483588</td>\n",
       "      <td>1.658669</td>\n",
       "      <td>-1.658669</td>\n",
       "    </tr>\n",
       "  </tbody>\n",
       "</table>\n",
       "<p>5 rows × 27 columns</p>\n",
       "</div>"
      ],
      "text/plain": [
       "   Home Ownership  Annual Income  Years in current job  Tax Liens  \\\n",
       "5            Rent       0.008815              0.199606  -0.099409   \n",
       "8   Home Mortgage      -0.760979             -0.333348  -0.099409   \n",
       "9   Home Mortgage       0.183528             -1.399255  -0.099409   \n",
       "10  Home Mortgage      -0.138297             -1.532493  -0.099409   \n",
       "16           Rent       0.059495              0.199606  -0.099409   \n",
       "\n",
       "    Number of Open Accounts  Years of Credit History  Maximum Open Credit  \\\n",
       "5                  0.178534                -0.525605            -0.077097   \n",
       "8                  1.202233                -0.370273            -0.145152   \n",
       "9                 -0.230945                 0.886502            -0.050282   \n",
       "10                -0.845165                -0.963358            -0.097592   \n",
       "16                -1.049905                -0.073730             0.021745   \n",
       "\n",
       "    Number of Credit Problems  Months since last delinquent  Bankruptcies  \\\n",
       "5                   -0.320239                     -0.080994     -0.323543   \n",
       "8                    1.599258                     -0.080994      2.495905   \n",
       "9                   -0.320239                     -1.836782     -0.323543   \n",
       "10                  -0.320239                     -0.080994     -0.323543   \n",
       "16                  -0.320239                     -0.080994     -0.323543   \n",
       "\n",
       "    ... freq_encode_ownership is_hown_bin_0  is_hown_bin_1  is_hown_bin_2  \\\n",
       "5   ...             -0.002937     -0.042054      -0.977307      -0.315284   \n",
       "8   ...              0.571845     -0.042054       1.023220      -0.315284   \n",
       "9   ...              0.571845     -0.042054       1.023220      -0.315284   \n",
       "10  ...              0.571845     -0.042054       1.023220      -0.315284   \n",
       "16  ...             -0.002937     -0.042054      -0.977307      -0.315284   \n",
       "\n",
       "    is_hown_bin_3  is_purpose_bin_0  is_purpose_bin_1  is_purpose_bin_2  \\\n",
       "5        1.176844         -0.128594         -1.964451          2.067877   \n",
       "8       -0.849730         -0.128594         -1.964451          2.067877   \n",
       "9       -0.849730         -0.128594          0.509048         -0.483588   \n",
       "10      -0.849730         -0.128594          0.509048         -0.483588   \n",
       "16       1.176844         -0.128594          0.509048         -0.483588   \n",
       "\n",
       "    is_term_bin_0  is_term_bin_1  \n",
       "5        1.658669      -1.658669  \n",
       "8       -0.602893       0.602893  \n",
       "9        1.658669      -1.658669  \n",
       "10      -0.602893       0.602893  \n",
       "16       1.658669      -1.658669  \n",
       "\n",
       "[5 rows x 27 columns]"
      ]
     },
     "execution_count": 69,
     "metadata": {},
     "output_type": "execute_result"
    }
   ],
   "source": [
    "data_cs.head()"
   ]
  },
  {
   "cell_type": "markdown",
   "metadata": {},
   "source": [
    "Предсказание данных в столбце Credit Score"
   ]
  },
  {
   "cell_type": "code",
   "execution_count": 70,
   "metadata": {},
   "outputs": [],
   "source": [
    "data.loc[data['Credit Score'].isnull(), ['Credit Score']] = \\\n",
    "    lr_cscore.predict(data_cs.loc[data_cs['Credit Score'].isnull(), \\\n",
    "                        ['Credit Score']+INCOME_FEATURE_NAMES+BIN_FEATURE_NAMES].drop(columns='Credit Score'))"
   ]
  },
  {
   "cell_type": "code",
   "execution_count": 71,
   "metadata": {},
   "outputs": [
    {
     "data": {
      "text/plain": [
       "count    1.000000e+04\n",
       "mean     1.364858e+06\n",
       "std      8.046757e+05\n",
       "min      1.065330e+05\n",
       "25%      8.754820e+05\n",
       "50%      1.205142e+06\n",
       "75%      1.629025e+06\n",
       "max      1.497561e+07\n",
       "Name: Annual Income, dtype: float64"
      ]
     },
     "execution_count": 71,
     "metadata": {},
     "output_type": "execute_result"
    }
   ],
   "source": [
    "data['Annual Income'].describe()"
   ]
  },
  {
   "cell_type": "code",
   "execution_count": 72,
   "metadata": {},
   "outputs": [
    {
     "data": {
      "text/plain": [
       "count    10000.000000\n",
       "mean       719.985864\n",
       "std         25.778176\n",
       "min        585.000000\n",
       "25%        708.000000\n",
       "50%        726.463444\n",
       "75%        738.000000\n",
       "max       1055.888727\n",
       "Name: Credit Score, dtype: float64"
      ]
     },
     "execution_count": 72,
     "metadata": {},
     "output_type": "execute_result"
    }
   ],
   "source": [
    "data['Credit Score'].describe()\n"
   ]
  },
  {
   "cell_type": "markdown",
   "metadata": {},
   "source": [
    "#### Проверка, что все данные подготовлены"
   ]
  },
  {
   "cell_type": "code",
   "execution_count": 73,
   "metadata": {},
   "outputs": [
    {
     "name": "stdout",
     "output_type": "stream",
     "text": [
      "<class 'pandas.core.frame.DataFrame'>\n",
      "Int64Index: 10000 entries, 0 to 2499\n",
      "Data columns (total 27 columns):\n",
      " #   Column                        Non-Null Count  Dtype  \n",
      "---  ------                        --------------  -----  \n",
      " 0   Home Ownership                10000 non-null  object \n",
      " 1   Annual Income                 10000 non-null  float64\n",
      " 2   Years in current job          10000 non-null  float64\n",
      " 3   Tax Liens                     10000 non-null  float64\n",
      " 4   Number of Open Accounts       10000 non-null  float64\n",
      " 5   Years of Credit History       10000 non-null  float64\n",
      " 6   Maximum Open Credit           10000 non-null  float64\n",
      " 7   Number of Credit Problems     10000 non-null  float64\n",
      " 8   Months since last delinquent  10000 non-null  float64\n",
      " 9   Bankruptcies                  10000 non-null  float64\n",
      " 10  Purpose                       10000 non-null  object \n",
      " 11  Term                          10000 non-null  object \n",
      " 12  Current Loan Amount           10000 non-null  float64\n",
      " 13  Current Credit Balance        10000 non-null  float64\n",
      " 14  Monthly Debt                  10000 non-null  float64\n",
      " 15  Credit Score                  10000 non-null  float64\n",
      " 16  Credit Default                7500 non-null   float64\n",
      " 17  freq_encode_ownership         10000 non-null  float64\n",
      " 18  is_hown_bin_0                 10000 non-null  float64\n",
      " 19  is_hown_bin_1                 10000 non-null  float64\n",
      " 20  is_hown_bin_2                 10000 non-null  float64\n",
      " 21  is_hown_bin_3                 10000 non-null  float64\n",
      " 22  is_purpose_bin_0              10000 non-null  float64\n",
      " 23  is_purpose_bin_1              10000 non-null  float64\n",
      " 24  is_purpose_bin_2              10000 non-null  float64\n",
      " 25  is_term_bin_0                 10000 non-null  float64\n",
      " 26  is_term_bin_1                 10000 non-null  float64\n",
      "dtypes: float64(24), object(3)\n",
      "memory usage: 2.1+ MB\n"
     ]
    }
   ],
   "source": [
    "data.info()"
   ]
  },
  {
   "cell_type": "markdown",
   "metadata": {},
   "source": [
    "------------------------------------------------------------------"
   ]
  },
  {
   "cell_type": "code",
   "execution_count": 74,
   "metadata": {},
   "outputs": [],
   "source": [
    "NUM_FEATURE_NAMES = ['Annual Income', 'Tax Liens', \n",
    "                     'Number of Open Accounts', 'Years of Credit History', 'Maximum Open Credit',\n",
    "                      'Number of Credit Problems', 'Months since last delinquent', 'Bankruptcies',\n",
    "                     'Current Loan Amount', 'Current Credit Balance', 'Monthly Debt', 'Years in current job',\n",
    "                       'Credit Score'\n",
    "                         ]\n",
    "                    \n",
    "\n",
    "TARGET_NAME = 'Credit Default'"
   ]
  },
  {
   "cell_type": "markdown",
   "metadata": {},
   "source": [
    "#### Разбиение на тестовую и тренировочную выборки"
   ]
  },
  {
   "cell_type": "code",
   "execution_count": 75,
   "metadata": {},
   "outputs": [],
   "source": [
    "train_set = data[data['Credit Default'].notnull()]\n",
    "test_set = data[data['Credit Default'].isnull()]"
   ]
  },
  {
   "cell_type": "markdown",
   "metadata": {},
   "source": [
    "#### Балансировка"
   ]
  },
  {
   "cell_type": "code",
   "execution_count": 76,
   "metadata": {},
   "outputs": [
    {
     "data": {
      "text/html": [
       "<div>\n",
       "<style scoped>\n",
       "    .dataframe tbody tr th:only-of-type {\n",
       "        vertical-align: middle;\n",
       "    }\n",
       "\n",
       "    .dataframe tbody tr th {\n",
       "        vertical-align: top;\n",
       "    }\n",
       "\n",
       "    .dataframe thead th {\n",
       "        text-align: right;\n",
       "    }\n",
       "</style>\n",
       "<table border=\"1\" class=\"dataframe\">\n",
       "  <thead>\n",
       "    <tr style=\"text-align: right;\">\n",
       "      <th></th>\n",
       "      <th>Home Ownership</th>\n",
       "      <th>Annual Income</th>\n",
       "      <th>Years in current job</th>\n",
       "      <th>Tax Liens</th>\n",
       "      <th>Number of Open Accounts</th>\n",
       "      <th>Years of Credit History</th>\n",
       "      <th>Maximum Open Credit</th>\n",
       "      <th>Number of Credit Problems</th>\n",
       "      <th>Months since last delinquent</th>\n",
       "      <th>Bankruptcies</th>\n",
       "      <th>...</th>\n",
       "      <th>freq_encode_ownership</th>\n",
       "      <th>is_hown_bin_0</th>\n",
       "      <th>is_hown_bin_1</th>\n",
       "      <th>is_hown_bin_2</th>\n",
       "      <th>is_hown_bin_3</th>\n",
       "      <th>is_purpose_bin_0</th>\n",
       "      <th>is_purpose_bin_1</th>\n",
       "      <th>is_purpose_bin_2</th>\n",
       "      <th>is_term_bin_0</th>\n",
       "      <th>is_term_bin_1</th>\n",
       "    </tr>\n",
       "  </thead>\n",
       "  <tbody>\n",
       "    <tr>\n",
       "      <th>7741</th>\n",
       "      <td>Home Mortgage</td>\n",
       "      <td>1.812771e+06</td>\n",
       "      <td>21.0</td>\n",
       "      <td>0.0</td>\n",
       "      <td>10.0</td>\n",
       "      <td>19.6</td>\n",
       "      <td>620026.0</td>\n",
       "      <td>0.0</td>\n",
       "      <td>32.0</td>\n",
       "      <td>0.0</td>\n",
       "      <td>...</td>\n",
       "      <td>0.4862</td>\n",
       "      <td>0.0</td>\n",
       "      <td>1.0</td>\n",
       "      <td>0.0</td>\n",
       "      <td>0.0</td>\n",
       "      <td>0.0</td>\n",
       "      <td>0.0</td>\n",
       "      <td>1.0</td>\n",
       "      <td>1.0</td>\n",
       "      <td>0.0</td>\n",
       "    </tr>\n",
       "    <tr>\n",
       "      <th>8337</th>\n",
       "      <td>Rent</td>\n",
       "      <td>1.428287e+06</td>\n",
       "      <td>4.0</td>\n",
       "      <td>0.0</td>\n",
       "      <td>19.0</td>\n",
       "      <td>15.3</td>\n",
       "      <td>522698.0</td>\n",
       "      <td>0.0</td>\n",
       "      <td>32.0</td>\n",
       "      <td>0.0</td>\n",
       "      <td>...</td>\n",
       "      <td>0.4224</td>\n",
       "      <td>0.0</td>\n",
       "      <td>0.0</td>\n",
       "      <td>0.0</td>\n",
       "      <td>1.0</td>\n",
       "      <td>1.0</td>\n",
       "      <td>0.0</td>\n",
       "      <td>0.0</td>\n",
       "      <td>0.0</td>\n",
       "      <td>1.0</td>\n",
       "    </tr>\n",
       "    <tr>\n",
       "      <th>7551</th>\n",
       "      <td>Own Home</td>\n",
       "      <td>7.238030e+05</td>\n",
       "      <td>1.0</td>\n",
       "      <td>0.0</td>\n",
       "      <td>9.0</td>\n",
       "      <td>15.2</td>\n",
       "      <td>554598.0</td>\n",
       "      <td>0.0</td>\n",
       "      <td>32.0</td>\n",
       "      <td>0.0</td>\n",
       "      <td>...</td>\n",
       "      <td>0.0895</td>\n",
       "      <td>0.0</td>\n",
       "      <td>0.0</td>\n",
       "      <td>1.0</td>\n",
       "      <td>0.0</td>\n",
       "      <td>0.0</td>\n",
       "      <td>1.0</td>\n",
       "      <td>0.0</td>\n",
       "      <td>0.0</td>\n",
       "      <td>1.0</td>\n",
       "    </tr>\n",
       "    <tr>\n",
       "      <th>6984</th>\n",
       "      <td>Rent</td>\n",
       "      <td>1.625564e+06</td>\n",
       "      <td>21.0</td>\n",
       "      <td>1.0</td>\n",
       "      <td>7.0</td>\n",
       "      <td>18.7</td>\n",
       "      <td>332992.0</td>\n",
       "      <td>2.0</td>\n",
       "      <td>1.0</td>\n",
       "      <td>1.0</td>\n",
       "      <td>...</td>\n",
       "      <td>0.4224</td>\n",
       "      <td>0.0</td>\n",
       "      <td>0.0</td>\n",
       "      <td>0.0</td>\n",
       "      <td>1.0</td>\n",
       "      <td>0.0</td>\n",
       "      <td>1.0</td>\n",
       "      <td>0.0</td>\n",
       "      <td>0.0</td>\n",
       "      <td>1.0</td>\n",
       "    </tr>\n",
       "    <tr>\n",
       "      <th>9586</th>\n",
       "      <td>Home Mortgage</td>\n",
       "      <td>2.272571e+06</td>\n",
       "      <td>21.0</td>\n",
       "      <td>0.0</td>\n",
       "      <td>19.0</td>\n",
       "      <td>44.5</td>\n",
       "      <td>891990.0</td>\n",
       "      <td>0.0</td>\n",
       "      <td>32.0</td>\n",
       "      <td>0.0</td>\n",
       "      <td>...</td>\n",
       "      <td>0.4862</td>\n",
       "      <td>0.0</td>\n",
       "      <td>1.0</td>\n",
       "      <td>0.0</td>\n",
       "      <td>0.0</td>\n",
       "      <td>0.0</td>\n",
       "      <td>0.0</td>\n",
       "      <td>1.0</td>\n",
       "      <td>1.0</td>\n",
       "      <td>0.0</td>\n",
       "    </tr>\n",
       "    <tr>\n",
       "      <th>...</th>\n",
       "      <td>...</td>\n",
       "      <td>...</td>\n",
       "      <td>...</td>\n",
       "      <td>...</td>\n",
       "      <td>...</td>\n",
       "      <td>...</td>\n",
       "      <td>...</td>\n",
       "      <td>...</td>\n",
       "      <td>...</td>\n",
       "      <td>...</td>\n",
       "      <td>...</td>\n",
       "      <td>...</td>\n",
       "      <td>...</td>\n",
       "      <td>...</td>\n",
       "      <td>...</td>\n",
       "      <td>...</td>\n",
       "      <td>...</td>\n",
       "      <td>...</td>\n",
       "      <td>...</td>\n",
       "      <td>...</td>\n",
       "      <td>...</td>\n",
       "    </tr>\n",
       "    <tr>\n",
       "      <th>3896</th>\n",
       "      <td>Own Home</td>\n",
       "      <td>2.329875e+06</td>\n",
       "      <td>14.0</td>\n",
       "      <td>0.0</td>\n",
       "      <td>4.0</td>\n",
       "      <td>16.2</td>\n",
       "      <td>107580.0</td>\n",
       "      <td>0.0</td>\n",
       "      <td>32.0</td>\n",
       "      <td>0.0</td>\n",
       "      <td>...</td>\n",
       "      <td>0.0895</td>\n",
       "      <td>0.0</td>\n",
       "      <td>0.0</td>\n",
       "      <td>1.0</td>\n",
       "      <td>0.0</td>\n",
       "      <td>0.0</td>\n",
       "      <td>1.0</td>\n",
       "      <td>0.0</td>\n",
       "      <td>0.0</td>\n",
       "      <td>1.0</td>\n",
       "    </tr>\n",
       "    <tr>\n",
       "      <th>1237</th>\n",
       "      <td>Own Home</td>\n",
       "      <td>1.215240e+06</td>\n",
       "      <td>21.0</td>\n",
       "      <td>0.0</td>\n",
       "      <td>11.0</td>\n",
       "      <td>18.7</td>\n",
       "      <td>1230548.0</td>\n",
       "      <td>0.0</td>\n",
       "      <td>7.0</td>\n",
       "      <td>0.0</td>\n",
       "      <td>...</td>\n",
       "      <td>0.0895</td>\n",
       "      <td>0.0</td>\n",
       "      <td>0.0</td>\n",
       "      <td>1.0</td>\n",
       "      <td>0.0</td>\n",
       "      <td>0.0</td>\n",
       "      <td>1.0</td>\n",
       "      <td>0.0</td>\n",
       "      <td>1.0</td>\n",
       "      <td>0.0</td>\n",
       "    </tr>\n",
       "    <tr>\n",
       "      <th>3914</th>\n",
       "      <td>Rent</td>\n",
       "      <td>9.398350e+05</td>\n",
       "      <td>6.0</td>\n",
       "      <td>0.0</td>\n",
       "      <td>13.0</td>\n",
       "      <td>5.6</td>\n",
       "      <td>376002.0</td>\n",
       "      <td>0.0</td>\n",
       "      <td>32.0</td>\n",
       "      <td>0.0</td>\n",
       "      <td>...</td>\n",
       "      <td>0.4224</td>\n",
       "      <td>0.0</td>\n",
       "      <td>0.0</td>\n",
       "      <td>0.0</td>\n",
       "      <td>1.0</td>\n",
       "      <td>0.0</td>\n",
       "      <td>1.0</td>\n",
       "      <td>0.0</td>\n",
       "      <td>0.0</td>\n",
       "      <td>1.0</td>\n",
       "    </tr>\n",
       "    <tr>\n",
       "      <th>4707</th>\n",
       "      <td>Rent</td>\n",
       "      <td>8.814670e+05</td>\n",
       "      <td>21.0</td>\n",
       "      <td>0.0</td>\n",
       "      <td>10.0</td>\n",
       "      <td>17.5</td>\n",
       "      <td>104016.0</td>\n",
       "      <td>0.0</td>\n",
       "      <td>32.0</td>\n",
       "      <td>0.0</td>\n",
       "      <td>...</td>\n",
       "      <td>0.4224</td>\n",
       "      <td>0.0</td>\n",
       "      <td>0.0</td>\n",
       "      <td>0.0</td>\n",
       "      <td>1.0</td>\n",
       "      <td>0.0</td>\n",
       "      <td>0.0</td>\n",
       "      <td>1.0</td>\n",
       "      <td>0.0</td>\n",
       "      <td>1.0</td>\n",
       "    </tr>\n",
       "    <tr>\n",
       "      <th>2372</th>\n",
       "      <td>Home Mortgage</td>\n",
       "      <td>2.326740e+06</td>\n",
       "      <td>12.0</td>\n",
       "      <td>0.0</td>\n",
       "      <td>17.0</td>\n",
       "      <td>27.0</td>\n",
       "      <td>1045968.0</td>\n",
       "      <td>1.0</td>\n",
       "      <td>32.0</td>\n",
       "      <td>1.0</td>\n",
       "      <td>...</td>\n",
       "      <td>0.4862</td>\n",
       "      <td>0.0</td>\n",
       "      <td>1.0</td>\n",
       "      <td>0.0</td>\n",
       "      <td>0.0</td>\n",
       "      <td>0.0</td>\n",
       "      <td>0.0</td>\n",
       "      <td>1.0</td>\n",
       "      <td>1.0</td>\n",
       "      <td>0.0</td>\n",
       "    </tr>\n",
       "  </tbody>\n",
       "</table>\n",
       "<p>9613 rows × 27 columns</p>\n",
       "</div>"
      ],
      "text/plain": [
       "     Home Ownership  Annual Income  Years in current job  Tax Liens  \\\n",
       "7741  Home Mortgage   1.812771e+06                  21.0        0.0   \n",
       "8337           Rent   1.428287e+06                   4.0        0.0   \n",
       "7551       Own Home   7.238030e+05                   1.0        0.0   \n",
       "6984           Rent   1.625564e+06                  21.0        1.0   \n",
       "9586  Home Mortgage   2.272571e+06                  21.0        0.0   \n",
       "...             ...            ...                   ...        ...   \n",
       "3896       Own Home   2.329875e+06                  14.0        0.0   \n",
       "1237       Own Home   1.215240e+06                  21.0        0.0   \n",
       "3914           Rent   9.398350e+05                   6.0        0.0   \n",
       "4707           Rent   8.814670e+05                  21.0        0.0   \n",
       "2372  Home Mortgage   2.326740e+06                  12.0        0.0   \n",
       "\n",
       "      Number of Open Accounts  Years of Credit History  Maximum Open Credit  \\\n",
       "7741                     10.0                     19.6             620026.0   \n",
       "8337                     19.0                     15.3             522698.0   \n",
       "7551                      9.0                     15.2             554598.0   \n",
       "6984                      7.0                     18.7             332992.0   \n",
       "9586                     19.0                     44.5             891990.0   \n",
       "...                       ...                      ...                  ...   \n",
       "3896                      4.0                     16.2             107580.0   \n",
       "1237                     11.0                     18.7            1230548.0   \n",
       "3914                     13.0                      5.6             376002.0   \n",
       "4707                     10.0                     17.5             104016.0   \n",
       "2372                     17.0                     27.0            1045968.0   \n",
       "\n",
       "      Number of Credit Problems  Months since last delinquent  Bankruptcies  \\\n",
       "7741                        0.0                          32.0           0.0   \n",
       "8337                        0.0                          32.0           0.0   \n",
       "7551                        0.0                          32.0           0.0   \n",
       "6984                        2.0                           1.0           1.0   \n",
       "9586                        0.0                          32.0           0.0   \n",
       "...                         ...                           ...           ...   \n",
       "3896                        0.0                          32.0           0.0   \n",
       "1237                        0.0                           7.0           0.0   \n",
       "3914                        0.0                          32.0           0.0   \n",
       "4707                        0.0                          32.0           0.0   \n",
       "2372                        1.0                          32.0           1.0   \n",
       "\n",
       "      ... freq_encode_ownership is_hown_bin_0  is_hown_bin_1  is_hown_bin_2  \\\n",
       "7741  ...                0.4862           0.0            1.0            0.0   \n",
       "8337  ...                0.4224           0.0            0.0            0.0   \n",
       "7551  ...                0.0895           0.0            0.0            1.0   \n",
       "6984  ...                0.4224           0.0            0.0            0.0   \n",
       "9586  ...                0.4862           0.0            1.0            0.0   \n",
       "...   ...                   ...           ...            ...            ...   \n",
       "3896  ...                0.0895           0.0            0.0            1.0   \n",
       "1237  ...                0.0895           0.0            0.0            1.0   \n",
       "3914  ...                0.4224           0.0            0.0            0.0   \n",
       "4707  ...                0.4224           0.0            0.0            0.0   \n",
       "2372  ...                0.4862           0.0            1.0            0.0   \n",
       "\n",
       "      is_hown_bin_3  is_purpose_bin_0  is_purpose_bin_1  is_purpose_bin_2  \\\n",
       "7741            0.0               0.0               0.0               1.0   \n",
       "8337            1.0               1.0               0.0               0.0   \n",
       "7551            0.0               0.0               1.0               0.0   \n",
       "6984            1.0               0.0               1.0               0.0   \n",
       "9586            0.0               0.0               0.0               1.0   \n",
       "...             ...               ...               ...               ...   \n",
       "3896            0.0               0.0               1.0               0.0   \n",
       "1237            0.0               0.0               1.0               0.0   \n",
       "3914            1.0               0.0               1.0               0.0   \n",
       "4707            1.0               0.0               0.0               1.0   \n",
       "2372            0.0               0.0               0.0               1.0   \n",
       "\n",
       "      is_term_bin_0  is_term_bin_1  \n",
       "7741            1.0            0.0  \n",
       "8337            0.0            1.0  \n",
       "7551            0.0            1.0  \n",
       "6984            0.0            1.0  \n",
       "9586            1.0            0.0  \n",
       "...             ...            ...  \n",
       "3896            0.0            1.0  \n",
       "1237            1.0            0.0  \n",
       "3914            0.0            1.0  \n",
       "4707            0.0            1.0  \n",
       "2372            1.0            0.0  \n",
       "\n",
       "[9613 rows x 27 columns]"
      ]
     },
     "execution_count": 76,
     "metadata": {},
     "output_type": "execute_result"
    }
   ],
   "source": [
    "\n",
    "balanced_data = balance_df_by_target(train_set, TARGET_NAME)\n",
    "balanced_data"
   ]
  },
  {
   "cell_type": "code",
   "execution_count": 77,
   "metadata": {},
   "outputs": [],
   "source": [
    "X = balanced_data.drop(columns='Credit Default').select_dtypes(include='float64')\n",
    "y = balanced_data['Credit Default']"
   ]
  },
  {
   "cell_type": "code",
   "execution_count": 78,
   "metadata": {},
   "outputs": [],
   "source": [
    "X_train, X_test, y_train, y_test = train_test_split(X, y, test_size=0.3)"
   ]
  },
  {
   "cell_type": "markdown",
   "metadata": {},
   "source": [
    "## Проверка моделей"
   ]
  },
  {
   "cell_type": "markdown",
   "metadata": {},
   "source": [
    "### Линейная регрессия"
   ]
  },
  {
   "cell_type": "code",
   "execution_count": 79,
   "metadata": {},
   "outputs": [],
   "source": [
    "lr = LinearRegression()"
   ]
  },
  {
   "cell_type": "code",
   "execution_count": 80,
   "metadata": {},
   "outputs": [
    {
     "data": {
      "text/plain": [
       "LinearRegression()"
      ]
     },
     "execution_count": 80,
     "metadata": {},
     "output_type": "execute_result"
    }
   ],
   "source": [
    "lr.fit(X_train, y_train)"
   ]
  },
  {
   "cell_type": "code",
   "execution_count": 81,
   "metadata": {},
   "outputs": [],
   "source": [
    "y_pred = lr.predict(X_test)\n",
    "y_tr_pred = lr.predict(X_train)\n"
   ]
  },
  {
   "cell_type": "markdown",
   "metadata": {},
   "source": [
    "#### Определение порога для значения классу  0 или 1"
   ]
  },
  {
   "cell_type": "code",
   "execution_count": 102,
   "metadata": {},
   "outputs": [
    {
     "name": "stdout",
     "output_type": "stream",
     "text": [
      "threshold -1.0, mse 0.5655339805825242, f1 0.43446601941747565\n",
      "threshold -0.99, mse 0.5655339805825242, f1 0.43446601941747565\n",
      "threshold -0.98, mse 0.5655339805825242, f1 0.43446601941747565\n",
      "threshold -0.97, mse 0.5655339805825242, f1 0.43446601941747565\n",
      "threshold -0.96, mse 0.5655339805825242, f1 0.43446601941747565\n",
      "threshold -0.95, mse 0.5655339805825242, f1 0.43446601941747565\n",
      "threshold -0.94, mse 0.5655339805825242, f1 0.43446601941747565\n",
      "threshold -0.9299999999999999, mse 0.5655339805825242, f1 0.43446601941747565\n",
      "threshold -0.9199999999999999, mse 0.5655339805825242, f1 0.43446601941747565\n",
      "threshold -0.9099999999999999, mse 0.5655339805825242, f1 0.43446601941747565\n",
      "threshold -0.8999999999999999, mse 0.5655339805825242, f1 0.43446601941747565\n",
      "threshold -0.8899999999999999, mse 0.5655339805825242, f1 0.43446601941747565\n",
      "threshold -0.8799999999999999, mse 0.5655339805825242, f1 0.43446601941747565\n",
      "threshold -0.8699999999999999, mse 0.5655339805825242, f1 0.43446601941747565\n",
      "threshold -0.8599999999999999, mse 0.5655339805825242, f1 0.43446601941747565\n",
      "threshold -0.8499999999999999, mse 0.5655339805825242, f1 0.43446601941747565\n",
      "threshold -0.8399999999999999, mse 0.5655339805825242, f1 0.43446601941747565\n",
      "threshold -0.8299999999999998, mse 0.5655339805825242, f1 0.43446601941747565\n",
      "threshold -0.8199999999999998, mse 0.5655339805825242, f1 0.43446601941747565\n",
      "threshold -0.8099999999999998, mse 0.5655339805825242, f1 0.43446601941747565\n",
      "threshold -0.7999999999999998, mse 0.5655339805825242, f1 0.43446601941747565\n",
      "threshold -0.7899999999999998, mse 0.5655339805825242, f1 0.43446601941747565\n",
      "threshold -0.7799999999999998, mse 0.5655339805825242, f1 0.43446601941747565\n",
      "threshold -0.7699999999999998, mse 0.5655339805825242, f1 0.43446601941747565\n",
      "threshold -0.7599999999999998, mse 0.5655339805825242, f1 0.43446601941747565\n",
      "threshold -0.7499999999999998, mse 0.5655339805825242, f1 0.43446601941747565\n",
      "threshold -0.7399999999999998, mse 0.5655339805825242, f1 0.43446601941747565\n",
      "threshold -0.7299999999999998, mse 0.5655339805825242, f1 0.43446601941747565\n",
      "threshold -0.7199999999999998, mse 0.5655339805825242, f1 0.43446601941747565\n",
      "threshold -0.7099999999999997, mse 0.5655339805825242, f1 0.43446601941747565\n",
      "threshold -0.6999999999999997, mse 0.5655339805825242, f1 0.43446601941747565\n",
      "threshold -0.6899999999999997, mse 0.5655339805825242, f1 0.43446601941747565\n",
      "threshold -0.6799999999999997, mse 0.5655339805825242, f1 0.43446601941747565\n",
      "threshold -0.6699999999999997, mse 0.5655339805825242, f1 0.43446601941747565\n",
      "threshold -0.6599999999999997, mse 0.5655339805825242, f1 0.43446601941747565\n",
      "threshold -0.6499999999999997, mse 0.5655339805825242, f1 0.43446601941747565\n",
      "threshold -0.6399999999999997, mse 0.5655339805825242, f1 0.43446601941747565\n",
      "threshold -0.6299999999999997, mse 0.5655339805825242, f1 0.43446601941747565\n",
      "threshold -0.6199999999999997, mse 0.5655339805825242, f1 0.43446601941747565\n",
      "threshold -0.6099999999999997, mse 0.5655339805825242, f1 0.43446601941747565\n",
      "threshold -0.5999999999999996, mse 0.5655339805825242, f1 0.43446601941747565\n",
      "threshold -0.5899999999999996, mse 0.5655339805825242, f1 0.43446601941747565\n",
      "threshold -0.5799999999999996, mse 0.5655339805825242, f1 0.43446601941747565\n",
      "threshold -0.5699999999999996, mse 0.5655339805825242, f1 0.43446601941747565\n",
      "threshold -0.5599999999999996, mse 0.5655339805825242, f1 0.43446601941747565\n",
      "threshold -0.5499999999999996, mse 0.5655339805825242, f1 0.43446601941747565\n",
      "threshold -0.5399999999999996, mse 0.5655339805825242, f1 0.43446601941747565\n",
      "threshold -0.5299999999999996, mse 0.5655339805825242, f1 0.43446601941747565\n",
      "threshold -0.5199999999999996, mse 0.5655339805825242, f1 0.43446601941747565\n",
      "threshold -0.5099999999999996, mse 0.5655339805825242, f1 0.43446601941747565\n",
      "threshold -0.49999999999999956, mse 0.5648404993065187, f1 0.43515950069348125\n",
      "threshold -0.48999999999999955, mse 0.5648404993065187, f1 0.43515950069348125\n",
      "threshold -0.47999999999999954, mse 0.5648404993065187, f1 0.43515950069348125\n",
      "threshold -0.46999999999999953, mse 0.5648404993065187, f1 0.43515950069348125\n",
      "threshold -0.4599999999999995, mse 0.5644937586685159, f1 0.435506241331484\n",
      "threshold -0.4499999999999995, mse 0.5644937586685159, f1 0.435506241331484\n",
      "threshold -0.4399999999999995, mse 0.5644937586685159, f1 0.435506241331484\n",
      "threshold -0.4299999999999995, mse 0.5641470180305131, f1 0.4358529819694868\n",
      "threshold -0.4199999999999995, mse 0.5641470180305131, f1 0.4358529819694868\n",
      "threshold -0.4099999999999995, mse 0.5641470180305131, f1 0.4358529819694868\n",
      "threshold -0.39999999999999947, mse 0.5641470180305131, f1 0.4358529819694868\n",
      "threshold -0.38999999999999946, mse 0.5641470180305131, f1 0.4358529819694868\n",
      "threshold -0.37999999999999945, mse 0.5641470180305131, f1 0.4358529819694868\n",
      "threshold -0.36999999999999944, mse 0.5641470180305131, f1 0.4358529819694868\n",
      "threshold -0.35999999999999943, mse 0.5644937586685159, f1 0.435506241331484\n",
      "threshold -0.3499999999999994, mse 0.5644937586685159, f1 0.435506241331484\n",
      "threshold -0.3399999999999994, mse 0.5644937586685159, f1 0.435506241331484\n",
      "threshold -0.3299999999999994, mse 0.5644937586685159, f1 0.435506241331484\n",
      "threshold -0.3199999999999994, mse 0.5644937586685159, f1 0.435506241331484\n",
      "threshold -0.3099999999999994, mse 0.5644937586685159, f1 0.435506241331484\n",
      "threshold -0.2999999999999994, mse 0.5644937586685159, f1 0.435506241331484\n",
      "threshold -0.28999999999999937, mse 0.5644937586685159, f1 0.435506241331484\n",
      "threshold -0.27999999999999936, mse 0.5644937586685159, f1 0.435506241331484\n",
      "threshold -0.26999999999999935, mse 0.5644937586685159, f1 0.435506241331484\n",
      "threshold -0.25999999999999934, mse 0.5644937586685159, f1 0.435506241331484\n",
      "threshold -0.24999999999999933, mse 0.5644937586685159, f1 0.435506241331484\n",
      "threshold -0.23999999999999932, mse 0.5644937586685159, f1 0.435506241331484\n",
      "threshold -0.22999999999999932, mse 0.5644937586685159, f1 0.435506241331484\n",
      "threshold -0.2199999999999993, mse 0.5644937586685159, f1 0.435506241331484\n",
      "threshold -0.2099999999999993, mse 0.5644937586685159, f1 0.435506241331484\n",
      "threshold -0.1999999999999993, mse 0.5648404993065187, f1 0.43515950069348125\n",
      "threshold -0.18999999999999928, mse 0.5644937586685159, f1 0.435506241331484\n",
      "threshold -0.17999999999999927, mse 0.5641470180305131, f1 0.4358529819694868\n",
      "threshold -0.16999999999999926, mse 0.5638002773925104, f1 0.43619972260748957\n",
      "threshold -0.15999999999999925, mse 0.5634535367545076, f1 0.43654646324549234\n",
      "threshold -0.14999999999999925, mse 0.5624133148404993, f1 0.4375866851595008\n",
      "threshold -0.13999999999999924, mse 0.5610263522884882, f1 0.4389736477115118\n",
      "threshold -0.12999999999999923, mse 0.5599861303744799, f1 0.44001386962552014\n",
      "threshold -0.11999999999999922, mse 0.5589459084604715, f1 0.4410540915395284\n",
      "threshold -0.10999999999999921, mse 0.5572122052704577, f1 0.44278779472954233\n",
      "threshold -0.0999999999999992, mse 0.5558252427184466, f1 0.4441747572815534\n",
      "threshold -0.08999999999999919, mse 0.5533980582524272, f1 0.44660194174757284\n",
      "threshold -0.07999999999999918, mse 0.5495839112343966, f1 0.45041608876560335\n",
      "threshold -0.06999999999999917, mse 0.5464632454923717, f1 0.4535367545076283\n",
      "threshold -0.059999999999999165, mse 0.5419556171983356, f1 0.4580443828016644\n",
      "threshold -0.049999999999999156, mse 0.5388349514563107, f1 0.46116504854368934\n",
      "threshold -0.03999999999999915, mse 0.5353675450762829, f1 0.4646324549237171\n",
      "threshold -0.02999999999999914, mse 0.5294729542302358, f1 0.47052704576976423\n",
      "threshold -0.01999999999999913, mse 0.5280859916782247, f1 0.4719140083217753\n",
      "threshold -0.00999999999999912, mse 0.5249653259361997, f1 0.4750346740638003\n",
      "threshold 8.881784197001252e-16, mse 0.5201109570041609, f1 0.4798890429958391\n",
      "threshold 0.010000000000000897, mse 0.5169902912621359, f1 0.4830097087378641\n",
      "threshold 0.020000000000000906, mse 0.5124826629680999, f1 0.48751733703190014\n",
      "threshold 0.030000000000000915, mse 0.5079750346740638, f1 0.4920249653259362\n",
      "threshold 0.040000000000000924, mse 0.5055478502080444, f1 0.4944521497919556\n",
      "threshold 0.05000000000000093, mse 0.5024271844660194, f1 0.4975728155339806\n",
      "threshold 0.06000000000000094, mse 0.4996532593619972, f1 0.5003467406380028\n",
      "threshold 0.07000000000000095, mse 0.49410540915395285, f1 0.5058945908460472\n",
      "threshold 0.08000000000000096, mse 0.49167822468793343, f1 0.5083217753120666\n",
      "threshold 0.09000000000000097, mse 0.48855755894590847, f1 0.5114424410540915\n",
      "threshold 0.10000000000000098, mse 0.48613037447988905, f1 0.513869625520111\n",
      "threshold 0.11000000000000099, mse 0.48474341192787795, f1 0.515256588072122\n",
      "threshold 0.120000000000001, mse 0.4830097087378641, f1 0.5169902912621359\n",
      "threshold 0.130000000000001, mse 0.4812760055478502, f1 0.5187239944521498\n",
      "threshold 0.140000000000001, mse 0.48058252427184467, f1 0.5194174757281553\n",
      "threshold 0.15000000000000102, mse 0.4791955617198336, f1 0.5208044382801664\n",
      "threshold 0.16000000000000103, mse 0.4778085991678225, f1 0.5221914008321775\n",
      "threshold 0.17000000000000104, mse 0.4774618585298197, f1 0.5225381414701803\n",
      "threshold 0.18000000000000105, mse 0.47572815533980584, f1 0.5242718446601942\n",
      "threshold 0.19000000000000106, mse 0.47434119278779474, f1 0.5256588072122053\n",
      "threshold 0.20000000000000107, mse 0.47260748959778087, f1 0.5273925104022191\n",
      "threshold 0.21000000000000107, mse 0.470873786407767, f1 0.529126213592233\n",
      "threshold 0.22000000000000108, mse 0.46914008321775313, f1 0.5308599167822469\n",
      "threshold 0.2300000000000011, mse 0.46879334257975036, f1 0.5312066574202496\n",
      "threshold 0.2400000000000011, mse 0.4670596393897365, f1 0.5329403606102635\n",
      "threshold 0.2500000000000011, mse 0.46636615811373094, f1 0.5336338418862691\n",
      "threshold 0.2600000000000011, mse 0.46497919556171985, f1 0.5350208044382802\n",
      "threshold 0.27000000000000113, mse 0.4646324549237171, f1 0.5353675450762829\n",
      "threshold 0.28000000000000114, mse 0.46116504854368934, f1 0.5388349514563107\n",
      "threshold 0.29000000000000115, mse 0.4576976421636616, f1 0.5423023578363384\n",
      "threshold 0.30000000000000115, mse 0.4538834951456311, f1 0.5461165048543689\n",
      "threshold 0.31000000000000116, mse 0.45041608876560335, f1 0.5495839112343966\n",
      "threshold 0.3200000000000012, mse 0.4455617198335645, f1 0.5544382801664355\n",
      "threshold 0.3300000000000012, mse 0.441747572815534, f1 0.558252427184466\n",
      "threshold 0.3400000000000012, mse 0.4368932038834951, f1 0.5631067961165048\n",
      "threshold 0.3500000000000012, mse 0.42857142857142855, f1 0.5714285714285714\n",
      "threshold 0.3600000000000012, mse 0.41816920943134533, f1 0.5818307905686546\n",
      "threshold 0.3700000000000012, mse 0.4147018030513176, f1 0.5852981969486823\n",
      "threshold 0.3800000000000012, mse 0.39563106796116504, f1 0.6043689320388349\n",
      "threshold 0.39000000000000123, mse 0.3855755894590846, f1 0.6144244105409153\n",
      "threshold 0.40000000000000124, mse 0.3776005547850208, f1 0.6223994452149791\n",
      "threshold 0.41000000000000125, mse 0.3751733703190014, f1 0.6248266296809986\n",
      "threshold 0.42000000000000126, mse 0.3734396671289875, f1 0.6265603328710125\n",
      "threshold 0.43000000000000127, mse 0.3699722607489598, f1 0.6300277392510403\n",
      "threshold 0.4400000000000013, mse 0.36130374479889044, f1 0.6386962552011096\n",
      "threshold 0.4500000000000013, mse 0.3654646324549237, f1 0.6345353675450763\n"
     ]
    },
    {
     "name": "stdout",
     "output_type": "stream",
     "text": [
      "threshold 0.4600000000000013, mse 0.3658113730929265, f1 0.6341886269070736\n",
      "threshold 0.4700000000000013, mse 0.35852981969486825, f1 0.6414701803051318\n",
      "threshold 0.4800000000000013, mse 0.34812760055478503, f1 0.651872399445215\n",
      "threshold 0.4900000000000013, mse 0.3418862690707351, f1 0.658113730929265\n",
      "threshold 0.5000000000000013, mse 0.3422330097087379, f1 0.6577669902912622\n",
      "threshold 0.5100000000000013, mse 0.34535367545076284, f1 0.6546463245492372\n",
      "threshold 0.5200000000000014, mse 0.3509015256588072, f1 0.6490984743411928\n",
      "threshold 0.5300000000000014, mse 0.3540221914008322, f1 0.6459778085991679\n",
      "threshold 0.5400000000000014, mse 0.3522884882108183, f1 0.6477115117891817\n",
      "threshold 0.5500000000000014, mse 0.3488210818307906, f1 0.6511789181692095\n",
      "threshold 0.5600000000000014, mse 0.3592233009708738, f1 0.6407766990291263\n",
      "threshold 0.5700000000000014, mse 0.36234396671289876, f1 0.6376560332871013\n",
      "threshold 0.5800000000000014, mse 0.36789181692094314, f1 0.6321081830790569\n",
      "threshold 0.5900000000000014, mse 0.3682385575589459, f1 0.6317614424410541\n",
      "threshold 0.6000000000000014, mse 0.37274618585298197, f1 0.6272538141470181\n",
      "threshold 0.6100000000000014, mse 0.37447988904299584, f1 0.6255201109570042\n",
      "threshold 0.6200000000000014, mse 0.37725381414701803, f1 0.6227461858529819\n",
      "threshold 0.6300000000000014, mse 0.38245492371705964, f1 0.6175450762829403\n",
      "threshold 0.6400000000000015, mse 0.3859223300970874, f1 0.6140776699029126\n",
      "threshold 0.6500000000000015, mse 0.39147018030513175, f1 0.6085298196948682\n",
      "threshold 0.6600000000000015, mse 0.3925104022191401, f1 0.6074895977808599\n",
      "threshold 0.6700000000000015, mse 0.39667128987517336, f1 0.6033287101248266\n",
      "threshold 0.6800000000000015, mse 0.4042995839112344, f1 0.5957004160887656\n",
      "threshold 0.6900000000000015, mse 0.40880721220527044, f1 0.5911927877947295\n",
      "threshold 0.7000000000000015, mse 0.41019417475728154, f1 0.5898058252427184\n",
      "threshold 0.7100000000000015, mse 0.4133148404993065, f1 0.5866851595006934\n",
      "threshold 0.7200000000000015, mse 0.41643550624133147, f1 0.5835644937586685\n",
      "threshold 0.7300000000000015, mse 0.42059639389736475, f1 0.5794036061026352\n",
      "threshold 0.7400000000000015, mse 0.42163661581137307, f1 0.5783633841886269\n",
      "threshold 0.7500000000000016, mse 0.42441054091539526, f1 0.5755894590846047\n",
      "threshold 0.7600000000000016, mse 0.42441054091539526, f1 0.5755894590846047\n",
      "threshold 0.7700000000000016, mse 0.42579750346740636, f1 0.5742024965325936\n",
      "threshold 0.7800000000000016, mse 0.4282246879334258, f1 0.5717753120665742\n",
      "threshold 0.7900000000000016, mse 0.42857142857142855, f1 0.5714285714285714\n",
      "threshold 0.8000000000000016, mse 0.4303051317614424, f1 0.5696948682385575\n",
      "threshold 0.8100000000000016, mse 0.4316920943134535, f1 0.5683079056865464\n",
      "threshold 0.8200000000000016, mse 0.4320388349514563, f1 0.5679611650485437\n",
      "threshold 0.8300000000000016, mse 0.4330790568654646, f1 0.5669209431345353\n",
      "threshold 0.8400000000000016, mse 0.43273231622746183, f1 0.5672676837725381\n",
      "threshold 0.8500000000000016, mse 0.43273231622746183, f1 0.5672676837725381\n",
      "threshold 0.8600000000000017, mse 0.4330790568654646, f1 0.5669209431345353\n",
      "threshold 0.8700000000000017, mse 0.4330790568654646, f1 0.5669209431345353\n",
      "threshold 0.8800000000000017, mse 0.4330790568654646, f1 0.5669209431345353\n",
      "threshold 0.8900000000000017, mse 0.43377253814147015, f1 0.5662274618585298\n",
      "threshold 0.9000000000000017, mse 0.43377253814147015, f1 0.5662274618585298\n",
      "threshold 0.9100000000000017, mse 0.43377253814147015, f1 0.5662274618585298\n",
      "threshold 0.9200000000000017, mse 0.43411927877947293, f1 0.565880721220527\n",
      "threshold 0.9300000000000017, mse 0.43411927877947293, f1 0.565880721220527\n",
      "threshold 0.9400000000000017, mse 0.43411927877947293, f1 0.565880721220527\n",
      "threshold 0.9500000000000017, mse 0.43411927877947293, f1 0.565880721220527\n",
      "threshold 0.9600000000000017, mse 0.4344660194174757, f1 0.5655339805825242\n",
      "threshold 0.9700000000000017, mse 0.4344660194174757, f1 0.5655339805825242\n",
      "threshold 0.9800000000000018, mse 0.4344660194174757, f1 0.5655339805825242\n",
      "threshold 0.9900000000000018, mse 0.4344660194174757, f1 0.5655339805825242\n"
     ]
    }
   ],
   "source": [
    "maxf1 = 0\n",
    "maxth = -1 \n",
    "for th in np.arange(-1,1, 0.01):\n",
    "    y_out = classify_by_threshold(y_pred, th)\n",
    "    check_test = pd.DataFrame({\n",
    "        \"y_test\": y_test,\n",
    "        \"y_pred\": y_out.flatten(),\n",
    "    })\n",
    "    f1 = get_f1(check_test)\n",
    "    print(f\"threshold {th}, mse {get_mse(check_test)}, f1 {f1}\")\n",
    "    if (f1>maxf1):\n",
    "        maxf1 = f1\n",
    "        maxth = th"
   ]
  },
  {
   "cell_type": "markdown",
   "metadata": {},
   "source": [
    "Максимальное значение f-меры получается при пороге присвоения для классов\n"
   ]
  },
  {
   "cell_type": "code",
   "execution_count": 103,
   "metadata": {},
   "outputs": [
    {
     "name": "stdout",
     "output_type": "stream",
     "text": [
      "f1 = 0.658113730929265, threshold=0.4900000000000013\n"
     ]
    }
   ],
   "source": [
    "print(f\"f1 = {maxf1}, threshold={maxth}\")"
   ]
  },
  {
   "cell_type": "markdown",
   "metadata": {},
   "source": [
    "### Логистическая регрессия"
   ]
  },
  {
   "cell_type": "code",
   "execution_count": 83,
   "metadata": {},
   "outputs": [
    {
     "name": "stdout",
     "output_type": "stream",
     "text": [
      "LogRegression pred [1. 1. 0. ... 0. 1. 0.]\n",
      "TRAIN\n",
      "\n",
      "              precision    recall  f1-score   support\n",
      "\n",
      "         0.0       0.60      0.77      0.67      3756\n",
      "         1.0       0.55      0.36      0.44      2973\n",
      "\n",
      "    accuracy                           0.59      6729\n",
      "   macro avg       0.58      0.56      0.56      6729\n",
      "weighted avg       0.58      0.59      0.57      6729\n",
      "\n",
      "TEST\n",
      "\n",
      "              precision    recall  f1-score   support\n",
      "\n",
      "         0.0       0.62      0.77      0.68      1631\n",
      "         1.0       0.55      0.38      0.45      1253\n",
      "\n",
      "    accuracy                           0.60      2884\n",
      "   macro avg       0.58      0.57      0.57      2884\n",
      "weighted avg       0.59      0.60      0.58      2884\n",
      "\n",
      "CONFUSION MATRIX\n",
      "\n",
      "col_0            0.0  1.0\n",
      "Credit Default           \n",
      "0.0             1251  380\n",
      "1.0              781  472\n"
     ]
    }
   ],
   "source": [
    "model_lr = LogisticRegression()\n",
    "model_lr.fit(X_train, y_train)\n",
    "\n",
    "y_train_pred = model_lr.predict(X_train)\n",
    "y_test_pred = model_lr.predict(X_test)\n",
    "print(f\"LogRegression pred {y_test_pred}\")\n",
    "\n",
    "get_classification_report(y_train, y_train_pred, y_test, y_test_pred)"
   ]
  },
  {
   "cell_type": "markdown",
   "metadata": {},
   "source": [
    "### Knn"
   ]
  },
  {
   "cell_type": "code",
   "execution_count": 84,
   "metadata": {},
   "outputs": [
    {
     "name": "stdout",
     "output_type": "stream",
     "text": [
      "TRAIN\n",
      "\n",
      "              precision    recall  f1-score   support\n",
      "\n",
      "         0.0       0.91      0.78      0.84      3756\n",
      "         1.0       0.76      0.90      0.83      2973\n",
      "\n",
      "    accuracy                           0.83      6729\n",
      "   macro avg       0.83      0.84      0.83      6729\n",
      "weighted avg       0.84      0.83      0.83      6729\n",
      "\n",
      "TEST\n",
      "\n",
      "              precision    recall  f1-score   support\n",
      "\n",
      "         0.0       0.68      0.62      0.65      1631\n",
      "         1.0       0.55      0.62      0.58      1253\n",
      "\n",
      "    accuracy                           0.62      2884\n",
      "   macro avg       0.62      0.62      0.62      2884\n",
      "weighted avg       0.62      0.62      0.62      2884\n",
      "\n",
      "CONFUSION MATRIX\n",
      "\n",
      "col_0            0.0  1.0\n",
      "Credit Default           \n",
      "0.0             1010  621\n",
      "1.0              481  772\n"
     ]
    }
   ],
   "source": [
    "model_knn = KNeighborsClassifier(n_neighbors=3)\n",
    "model_knn.fit(X_train, y_train)\n",
    "\n",
    "y_train_pred = model_knn.predict(X_train)\n",
    "y_test_pred = model_knn.predict(X_test)\n",
    "\n",
    "get_classification_report(y_train, y_train_pred, y_test, y_test_pred)"
   ]
  },
  {
   "cell_type": "markdown",
   "metadata": {},
   "source": [
    "### XGB"
   ]
  },
  {
   "cell_type": "code",
   "execution_count": 85,
   "metadata": {},
   "outputs": [
    {
     "name": "stdout",
     "output_type": "stream",
     "text": [
      "TRAIN\n",
      "\n",
      "              precision    recall  f1-score   support\n",
      "\n",
      "         0.0       0.97      0.97      0.97      3756\n",
      "         1.0       0.96      0.97      0.96      2973\n",
      "\n",
      "    accuracy                           0.97      6729\n",
      "   macro avg       0.97      0.97      0.97      6729\n",
      "weighted avg       0.97      0.97      0.97      6729\n",
      "\n",
      "TEST\n",
      "\n",
      "              precision    recall  f1-score   support\n",
      "\n",
      "         0.0       0.81      0.75      0.77      1631\n",
      "         1.0       0.70      0.77      0.73      1253\n",
      "\n",
      "    accuracy                           0.75      2884\n",
      "   macro avg       0.75      0.76      0.75      2884\n",
      "weighted avg       0.76      0.75      0.76      2884\n",
      "\n",
      "CONFUSION MATRIX\n",
      "\n",
      "col_0            0.0  1.0\n",
      "Credit Default           \n",
      "0.0             1216  415\n",
      "1.0              293  960\n"
     ]
    }
   ],
   "source": [
    "model_xgb = xgb.XGBClassifier(random_state=21)\n",
    "model_xgb.fit(X_train, y_train)\n",
    "\n",
    "y_train_pred = model_xgb.predict(X_train)\n",
    "y_test_pred = model_xgb.predict(X_test)\n",
    "\n",
    "get_classification_report(y_train, y_train_pred, y_test, y_test_pred)"
   ]
  },
  {
   "cell_type": "markdown",
   "metadata": {},
   "source": [
    "### LGBM"
   ]
  },
  {
   "cell_type": "code",
   "execution_count": 86,
   "metadata": {},
   "outputs": [
    {
     "name": "stdout",
     "output_type": "stream",
     "text": [
      "TRAIN\n",
      "\n",
      "              precision    recall  f1-score   support\n",
      "\n",
      "         0.0       0.91      0.92      0.91      3756\n",
      "         1.0       0.89      0.88      0.89      2973\n",
      "\n",
      "    accuracy                           0.90      6729\n",
      "   macro avg       0.90      0.90      0.90      6729\n",
      "weighted avg       0.90      0.90      0.90      6729\n",
      "\n",
      "TEST\n",
      "\n",
      "              precision    recall  f1-score   support\n",
      "\n",
      "         0.0       0.77      0.75      0.76      1631\n",
      "         1.0       0.68      0.71      0.69      1253\n",
      "\n",
      "    accuracy                           0.73      2884\n",
      "   macro avg       0.72      0.73      0.72      2884\n",
      "weighted avg       0.73      0.73      0.73      2884\n",
      "\n",
      "CONFUSION MATRIX\n",
      "\n",
      "col_0            0.0  1.0\n",
      "Credit Default           \n",
      "0.0             1216  415\n",
      "1.0              368  885\n"
     ]
    }
   ],
   "source": [
    "model_lgbm = lgbm.LGBMClassifier(random_state=21)\n",
    "model_lgbm.fit(X_train, y_train)\n",
    "\n",
    "y_train_pred = model_lgbm.predict(X_train)\n",
    "y_test_pred = model_lgbm.predict(X_test)\n",
    "\n",
    "get_classification_report(y_train, y_train_pred, y_test, y_test_pred)"
   ]
  },
  {
   "cell_type": "markdown",
   "metadata": {},
   "source": [
    "### CatBoost"
   ]
  },
  {
   "cell_type": "code",
   "execution_count": 87,
   "metadata": {},
   "outputs": [
    {
     "name": "stdout",
     "output_type": "stream",
     "text": [
      "TRAIN\n",
      "\n",
      "              precision    recall  f1-score   support\n",
      "\n",
      "         0.0       0.95      0.77      0.85      3756\n",
      "         1.0       0.76      0.95      0.85      2973\n",
      "\n",
      "    accuracy                           0.85      6729\n",
      "   macro avg       0.86      0.86      0.85      6729\n",
      "weighted avg       0.87      0.85      0.85      6729\n",
      "\n",
      "TEST\n",
      "\n",
      "              precision    recall  f1-score   support\n",
      "\n",
      "         0.0       0.82      0.60      0.69      1631\n",
      "         1.0       0.61      0.83      0.71      1253\n",
      "\n",
      "    accuracy                           0.70      2884\n",
      "   macro avg       0.72      0.71      0.70      2884\n",
      "weighted avg       0.73      0.70      0.70      2884\n",
      "\n",
      "CONFUSION MATRIX\n",
      "\n",
      "col_0           0.0   1.0\n",
      "Credit Default           \n",
      "0.0             974   657\n",
      "1.0             213  1040\n"
     ]
    }
   ],
   "source": [
    "model_catb = catb.CatBoostClassifier(class_weights=[1, 1.5], silent=True, random_state=21)\n",
    "model_catb.fit(X_train, y_train)\n",
    "\n",
    "y_train_pred = model_catb.predict(X_train)\n",
    "y_test_pred = model_catb.predict(X_test)\n",
    "\n",
    "get_classification_report(y_train, y_train_pred, y_test, y_test_pred)"
   ]
  },
  {
   "cell_type": "markdown",
   "metadata": {},
   "source": [
    "------------------------------------------------"
   ]
  },
  {
   "cell_type": "markdown",
   "metadata": {},
   "source": [
    "Из предыдущих моделей выбираем по критерию F1-score и по меньшей разнице меры между тренировочной и тестовой выборками"
   ]
  },
  {
   "cell_type": "code",
   "execution_count": 88,
   "metadata": {},
   "outputs": [],
   "source": [
    "model_catb = catb.CatBoostClassifier(class_weights=[1,1.5], silent=True, random_state=21, l2_leaf_reg=10)"
   ]
  },
  {
   "cell_type": "markdown",
   "metadata": {},
   "source": [
    "Выбираем параметры для настройки классификатора"
   ]
  },
  {
   "cell_type": "code",
   "execution_count": 89,
   "metadata": {},
   "outputs": [],
   "source": [
    "params = {'n_estimators':[50, 100, 200, 500, 700, 1000, 1200, 1500],\n",
    "          'max_depth':[3, 5, 7]}"
   ]
  },
  {
   "cell_type": "code",
   "execution_count": 90,
   "metadata": {},
   "outputs": [],
   "source": [
    "cv=KFold(n_splits=5, random_state=21, shuffle=True)"
   ]
  },
  {
   "cell_type": "code",
   "execution_count": 91,
   "metadata": {},
   "outputs": [
    {
     "name": "stdout",
     "output_type": "stream",
     "text": [
      "CPU times: user 52.2 s, sys: 3.64 s, total: 55.9 s\n",
      "Wall time: 1min 40s\n"
     ]
    },
    {
     "data": {
      "text/plain": [
       "RandomizedSearchCV(cv=KFold(n_splits=5, random_state=21, shuffle=True),\n",
       "                   estimator=<catboost.core.CatBoostClassifier object at 0x7f82a3b81640>,\n",
       "                   n_jobs=-1,\n",
       "                   param_distributions={'max_depth': [3, 5, 7],\n",
       "                                        'n_estimators': [50, 100, 200, 500, 700,\n",
       "                                                         1000, 1200, 1500]},\n",
       "                   scoring='f1')"
      ]
     },
     "execution_count": 91,
     "metadata": {},
     "output_type": "execute_result"
    }
   ],
   "source": [
    "%%time\n",
    "\n",
    "rs = RandomizedSearchCV(model_catb, params, scoring='f1', cv=cv, n_jobs=-1)\n",
    "rs.fit(X, y)"
   ]
  },
  {
   "cell_type": "code",
   "execution_count": 92,
   "metadata": {},
   "outputs": [
    {
     "data": {
      "text/plain": [
       "{'n_estimators': 1500, 'max_depth': 7}"
      ]
     },
     "execution_count": 92,
     "metadata": {},
     "output_type": "execute_result"
    }
   ],
   "source": [
    "rs.best_params_"
   ]
  },
  {
   "cell_type": "code",
   "execution_count": 93,
   "metadata": {},
   "outputs": [
    {
     "data": {
      "text/plain": [
       "0.7618996440828235"
      ]
     },
     "execution_count": 93,
     "metadata": {},
     "output_type": "execute_result"
    }
   ],
   "source": [
    "rs.best_score_"
   ]
  },
  {
   "cell_type": "code",
   "execution_count": 94,
   "metadata": {},
   "outputs": [
    {
     "name": "stdout",
     "output_type": "stream",
     "text": [
      "TRAIN\n",
      "\n",
      "              precision    recall  f1-score   support\n",
      "\n",
      "         0.0       0.86      0.52      0.65      3756\n",
      "         1.0       0.60      0.90      0.72      2973\n",
      "\n",
      "    accuracy                           0.69      6729\n",
      "   macro avg       0.73      0.71      0.68      6729\n",
      "weighted avg       0.75      0.69      0.68      6729\n",
      "\n",
      "TEST\n",
      "\n",
      "              precision    recall  f1-score   support\n",
      "\n",
      "         0.0       0.81      0.48      0.60      1631\n",
      "         1.0       0.56      0.85      0.68      1253\n",
      "\n",
      "    accuracy                           0.64      2884\n",
      "   macro avg       0.68      0.67      0.64      2884\n",
      "weighted avg       0.70      0.64      0.64      2884\n",
      "\n",
      "CONFUSION MATRIX\n",
      "\n",
      "col_0           0.0   1.0\n",
      "Credit Default           \n",
      "0.0             786   845\n",
      "1.0             183  1070\n",
      "CPU times: user 12 s, sys: 683 ms, total: 12.6 s\n",
      "Wall time: 2.29 s\n"
     ]
    }
   ],
   "source": [
    "%%time\n",
    "\n",
    "final_model = catb.CatBoostClassifier(class_weights=[1,1.6], n_estimators=700, max_depth=3,\n",
    "                                      silent=True, random_state=21, l2_leaf_reg=10)\n",
    "final_model.fit(X_train, y_train)\n",
    "\n",
    "y_train_pred = final_model.predict(X_train)\n",
    "y_test_pred = final_model.predict(X_test)\n",
    "\n",
    "get_classification_report(y_train, y_train_pred, y_test, y_test_pred)"
   ]
  },
  {
   "cell_type": "code",
   "execution_count": 98,
   "metadata": {},
   "outputs": [],
   "source": [
    "y_final_pred = final_model.predict(data[data['Credit Default'].isnull()].drop(columns='Credit Default').select_dtypes(include='float64'))\n"
   ]
  },
  {
   "cell_type": "code",
   "execution_count": 99,
   "metadata": {},
   "outputs": [
    {
     "data": {
      "text/plain": [
       "0.0    5387\n",
       "1.0    2113\n",
       "Name: Credit Default, dtype: int64"
      ]
     },
     "execution_count": 99,
     "metadata": {},
     "output_type": "execute_result"
    }
   ],
   "source": [
    "train_set['Credit Default'].value_counts()"
   ]
  },
  {
   "cell_type": "code",
   "execution_count": 100,
   "metadata": {},
   "outputs": [
    {
     "data": {
      "text/plain": [
       "1.0    1507\n",
       "0.0     993\n",
       "dtype: int64"
      ]
     },
     "execution_count": 100,
     "metadata": {},
     "output_type": "execute_result"
    }
   ],
   "source": [
    "pd.DataFrame(y_final_pred).value_counts()"
   ]
  },
  {
   "cell_type": "markdown",
   "metadata": {},
   "source": [
    "## Вывод результата в файл"
   ]
  },
  {
   "cell_type": "code",
   "execution_count": 107,
   "metadata": {},
   "outputs": [],
   "source": [
    "pd.DataFrame(y_final_pred).to_csv(\"OGudkov_predictions.csv\", header=None)"
   ]
  },
  {
   "cell_type": "code",
   "execution_count": null,
   "metadata": {},
   "outputs": [],
   "source": []
  }
 ],
 "metadata": {
  "kernelspec": {
   "display_name": "Python 3",
   "language": "python",
   "name": "python3"
  },
  "language_info": {
   "codemirror_mode": {
    "name": "ipython",
    "version": 3
   },
   "file_extension": ".py",
   "mimetype": "text/x-python",
   "name": "python",
   "nbconvert_exporter": "python",
   "pygments_lexer": "ipython3",
   "version": "3.8.0"
  }
 },
 "nbformat": 4,
 "nbformat_minor": 4
}
